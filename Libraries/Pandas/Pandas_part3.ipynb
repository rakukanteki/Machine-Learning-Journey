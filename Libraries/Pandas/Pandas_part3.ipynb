{
 "cells": [
  {
   "cell_type": "markdown",
   "id": "e195b115-923e-402d-92a2-d8c9e5379e5a",
   "metadata": {
    "jp-MarkdownHeadingCollapsed": true
   },
   "source": [
    "# Read database records into pandas dataframe and write it back"
   ]
  },
  {
   "cell_type": "code",
   "execution_count": 1,
   "id": "82306c94-c493-40a5-985a-187f5840eb9a",
   "metadata": {},
   "outputs": [],
   "source": [
    "import pandas as pd\n",
    "import sqlalchemy"
   ]
  },
  {
   "cell_type": "markdown",
   "id": "3ec74f9b-f76c-42fa-b8fd-c0195c319f5a",
   "metadata": {},
   "source": [
    "https://www.youtube.com/watch?v=M-4EpNdlSuY&list=PLeo1K3hjS3uuASpe-1LjfG5f14Bnozjwy&index=14"
   ]
  },
  {
   "cell_type": "markdown",
   "id": "5058df26-b79a-4409-8599-87cd9d3788c4",
   "metadata": {},
   "source": [
    "Needed to create a SQL file. Then watch the tutorial"
   ]
  },
  {
   "cell_type": "markdown",
   "id": "a138ee3e-e336-4a3a-9f6f-5d532feb2131",
   "metadata": {
    "jp-MarkdownHeadingCollapsed": true
   },
   "source": [
    "# Handle Large Datasets in Pandas"
   ]
  },
  {
   "cell_type": "markdown",
   "id": "88f16696-2b6f-4bcf-a20c-cd72945fb927",
   "metadata": {},
   "source": [
    "https://pythonspeed.com/articles/pandas-load-less-data/"
   ]
  },
  {
   "cell_type": "markdown",
   "id": "37509554-4d0a-4903-b636-6e5f0af0e8e4",
   "metadata": {
    "jp-MarkdownHeadingCollapsed": true
   },
   "source": [
    "# Time Series Analysis in Pandas"
   ]
  },
  {
   "cell_type": "code",
   "execution_count": 10,
   "id": "efb407b6-3f7b-4f80-af08-4715ba6eb9cd",
   "metadata": {},
   "outputs": [
    {
     "name": "stderr",
     "output_type": "stream",
     "text": [
      "C:\\Users\\radwa\\AppData\\Local\\Temp\\ipykernel_14524\\2494894955.py:2: UserWarning: Could not infer format, so each element will be parsed individually, falling back to `dateutil`. To ensure parsing is consistent and as-expected, please specify a format.\n",
      "  df = pd.read_csv(\"aapl.csv\", parse_dates=[\"Date\"], index_col=\"Date\")\n"
     ]
    },
    {
     "data": {
      "text/html": [
       "<div>\n",
       "<style scoped>\n",
       "    .dataframe tbody tr th:only-of-type {\n",
       "        vertical-align: middle;\n",
       "    }\n",
       "\n",
       "    .dataframe tbody tr th {\n",
       "        vertical-align: top;\n",
       "    }\n",
       "\n",
       "    .dataframe thead th {\n",
       "        text-align: right;\n",
       "    }\n",
       "</style>\n",
       "<table border=\"1\" class=\"dataframe\">\n",
       "  <thead>\n",
       "    <tr style=\"text-align: right;\">\n",
       "      <th></th>\n",
       "      <th>Open</th>\n",
       "      <th>High</th>\n",
       "      <th>Low</th>\n",
       "      <th>Close</th>\n",
       "      <th>Volume</th>\n",
       "    </tr>\n",
       "    <tr>\n",
       "      <th>Date</th>\n",
       "      <th></th>\n",
       "      <th></th>\n",
       "      <th></th>\n",
       "      <th></th>\n",
       "      <th></th>\n",
       "    </tr>\n",
       "  </thead>\n",
       "  <tbody>\n",
       "    <tr>\n",
       "      <th>2017-07-07</th>\n",
       "      <td>142.90</td>\n",
       "      <td>144.75</td>\n",
       "      <td>142.90</td>\n",
       "      <td>144.18</td>\n",
       "      <td>19201712</td>\n",
       "    </tr>\n",
       "    <tr>\n",
       "      <th>2017-07-06</th>\n",
       "      <td>143.02</td>\n",
       "      <td>143.50</td>\n",
       "      <td>142.41</td>\n",
       "      <td>142.73</td>\n",
       "      <td>24128782</td>\n",
       "    </tr>\n",
       "    <tr>\n",
       "      <th>2017-07-05</th>\n",
       "      <td>143.69</td>\n",
       "      <td>144.79</td>\n",
       "      <td>142.72</td>\n",
       "      <td>144.09</td>\n",
       "      <td>21569557</td>\n",
       "    </tr>\n",
       "    <tr>\n",
       "      <th>2017-07-03</th>\n",
       "      <td>144.88</td>\n",
       "      <td>145.30</td>\n",
       "      <td>143.10</td>\n",
       "      <td>143.50</td>\n",
       "      <td>14277848</td>\n",
       "    </tr>\n",
       "    <tr>\n",
       "      <th>2017-06-30</th>\n",
       "      <td>144.45</td>\n",
       "      <td>144.96</td>\n",
       "      <td>143.78</td>\n",
       "      <td>144.02</td>\n",
       "      <td>23024107</td>\n",
       "    </tr>\n",
       "  </tbody>\n",
       "</table>\n",
       "</div>"
      ],
      "text/plain": [
       "              Open    High     Low   Close    Volume\n",
       "Date                                                \n",
       "2017-07-07  142.90  144.75  142.90  144.18  19201712\n",
       "2017-07-06  143.02  143.50  142.41  142.73  24128782\n",
       "2017-07-05  143.69  144.79  142.72  144.09  21569557\n",
       "2017-07-03  144.88  145.30  143.10  143.50  14277848\n",
       "2017-06-30  144.45  144.96  143.78  144.02  23024107"
      ]
     },
     "execution_count": 10,
     "metadata": {},
     "output_type": "execute_result"
    }
   ],
   "source": [
    "import pandas as pd\n",
    "df = pd.read_csv(\"aapl.csv\", parse_dates=[\"Date\"], index_col=\"Date\")\n",
    "df.head(5)"
   ]
  },
  {
   "cell_type": "markdown",
   "id": "f212e067-7e74-485f-989d-f7430161950f",
   "metadata": {
    "jp-MarkdownHeadingCollapsed": true
   },
   "source": [
    "## Topic 1: DateTimeIndex"
   ]
  },
  {
   "cell_type": "code",
   "execution_count": 12,
   "id": "c6e9b91e-6ae8-4e0c-818c-4a2c4a4513a7",
   "metadata": {},
   "outputs": [
    {
     "data": {
      "text/plain": [
       "DatetimeIndex(['2017-07-07', '2017-07-06', '2017-07-05', '2017-07-03',\n",
       "               '2017-06-30', '2017-06-29', '2017-06-28', '2017-06-27',\n",
       "               '2017-06-26', '2017-06-23',\n",
       "               ...\n",
       "               '2016-07-22', '2016-07-21', '2016-07-20', '2016-07-19',\n",
       "               '2016-07-18', '2016-07-15', '2016-07-14', '2016-07-13',\n",
       "               '2016-07-12', '2016-07-11'],\n",
       "              dtype='datetime64[ns]', name='Date', length=251, freq=None)"
      ]
     },
     "execution_count": 12,
     "metadata": {},
     "output_type": "execute_result"
    }
   ],
   "source": [
    "df.index"
   ]
  },
  {
   "cell_type": "code",
   "execution_count": 18,
   "id": "b56fdb2b-21e0-4552-b3a7-d72870900e83",
   "metadata": {},
   "outputs": [
    {
     "data": {
      "text/html": [
       "<div>\n",
       "<style scoped>\n",
       "    .dataframe tbody tr th:only-of-type {\n",
       "        vertical-align: middle;\n",
       "    }\n",
       "\n",
       "    .dataframe tbody tr th {\n",
       "        vertical-align: top;\n",
       "    }\n",
       "\n",
       "    .dataframe thead th {\n",
       "        text-align: right;\n",
       "    }\n",
       "</style>\n",
       "<table border=\"1\" class=\"dataframe\">\n",
       "  <thead>\n",
       "    <tr style=\"text-align: right;\">\n",
       "      <th></th>\n",
       "      <th>Open</th>\n",
       "      <th>High</th>\n",
       "      <th>Low</th>\n",
       "      <th>Close</th>\n",
       "      <th>Volume</th>\n",
       "    </tr>\n",
       "    <tr>\n",
       "      <th>Date</th>\n",
       "      <th></th>\n",
       "      <th></th>\n",
       "      <th></th>\n",
       "      <th></th>\n",
       "      <th></th>\n",
       "    </tr>\n",
       "  </thead>\n",
       "  <tbody>\n",
       "    <tr>\n",
       "      <th>2017-01-31</th>\n",
       "      <td>121.15</td>\n",
       "      <td>121.39</td>\n",
       "      <td>120.62</td>\n",
       "      <td>121.35</td>\n",
       "      <td>49200993</td>\n",
       "    </tr>\n",
       "    <tr>\n",
       "      <th>2017-01-30</th>\n",
       "      <td>120.93</td>\n",
       "      <td>121.63</td>\n",
       "      <td>120.66</td>\n",
       "      <td>121.63</td>\n",
       "      <td>30377503</td>\n",
       "    </tr>\n",
       "    <tr>\n",
       "      <th>2017-01-27</th>\n",
       "      <td>122.14</td>\n",
       "      <td>122.35</td>\n",
       "      <td>121.60</td>\n",
       "      <td>121.95</td>\n",
       "      <td>20562944</td>\n",
       "    </tr>\n",
       "    <tr>\n",
       "      <th>2017-01-26</th>\n",
       "      <td>121.67</td>\n",
       "      <td>122.44</td>\n",
       "      <td>121.60</td>\n",
       "      <td>121.94</td>\n",
       "      <td>26337576</td>\n",
       "    </tr>\n",
       "    <tr>\n",
       "      <th>2017-01-25</th>\n",
       "      <td>120.42</td>\n",
       "      <td>122.10</td>\n",
       "      <td>120.28</td>\n",
       "      <td>121.88</td>\n",
       "      <td>32586673</td>\n",
       "    </tr>\n",
       "    <tr>\n",
       "      <th>2017-01-24</th>\n",
       "      <td>119.55</td>\n",
       "      <td>120.10</td>\n",
       "      <td>119.50</td>\n",
       "      <td>119.97</td>\n",
       "      <td>23211038</td>\n",
       "    </tr>\n",
       "    <tr>\n",
       "      <th>2017-01-23</th>\n",
       "      <td>120.00</td>\n",
       "      <td>120.81</td>\n",
       "      <td>119.77</td>\n",
       "      <td>120.08</td>\n",
       "      <td>22050218</td>\n",
       "    </tr>\n",
       "    <tr>\n",
       "      <th>2017-01-20</th>\n",
       "      <td>120.45</td>\n",
       "      <td>120.45</td>\n",
       "      <td>119.73</td>\n",
       "      <td>120.00</td>\n",
       "      <td>32597892</td>\n",
       "    </tr>\n",
       "    <tr>\n",
       "      <th>2017-01-19</th>\n",
       "      <td>119.40</td>\n",
       "      <td>120.09</td>\n",
       "      <td>119.37</td>\n",
       "      <td>119.78</td>\n",
       "      <td>25597291</td>\n",
       "    </tr>\n",
       "    <tr>\n",
       "      <th>2017-01-18</th>\n",
       "      <td>120.00</td>\n",
       "      <td>120.50</td>\n",
       "      <td>119.71</td>\n",
       "      <td>119.99</td>\n",
       "      <td>23712961</td>\n",
       "    </tr>\n",
       "    <tr>\n",
       "      <th>2017-01-17</th>\n",
       "      <td>118.34</td>\n",
       "      <td>120.24</td>\n",
       "      <td>118.22</td>\n",
       "      <td>120.00</td>\n",
       "      <td>34439843</td>\n",
       "    </tr>\n",
       "    <tr>\n",
       "      <th>2017-01-13</th>\n",
       "      <td>119.11</td>\n",
       "      <td>119.62</td>\n",
       "      <td>118.81</td>\n",
       "      <td>119.04</td>\n",
       "      <td>26111948</td>\n",
       "    </tr>\n",
       "    <tr>\n",
       "      <th>2017-01-12</th>\n",
       "      <td>118.90</td>\n",
       "      <td>119.30</td>\n",
       "      <td>118.21</td>\n",
       "      <td>119.25</td>\n",
       "      <td>27086220</td>\n",
       "    </tr>\n",
       "    <tr>\n",
       "      <th>2017-01-11</th>\n",
       "      <td>118.74</td>\n",
       "      <td>119.93</td>\n",
       "      <td>118.60</td>\n",
       "      <td>119.75</td>\n",
       "      <td>27588593</td>\n",
       "    </tr>\n",
       "    <tr>\n",
       "      <th>2017-01-10</th>\n",
       "      <td>118.77</td>\n",
       "      <td>119.38</td>\n",
       "      <td>118.30</td>\n",
       "      <td>119.11</td>\n",
       "      <td>24462051</td>\n",
       "    </tr>\n",
       "    <tr>\n",
       "      <th>2017-01-09</th>\n",
       "      <td>117.95</td>\n",
       "      <td>119.43</td>\n",
       "      <td>117.94</td>\n",
       "      <td>118.99</td>\n",
       "      <td>33561948</td>\n",
       "    </tr>\n",
       "    <tr>\n",
       "      <th>2017-01-06</th>\n",
       "      <td>116.78</td>\n",
       "      <td>118.16</td>\n",
       "      <td>116.47</td>\n",
       "      <td>117.91</td>\n",
       "      <td>31751900</td>\n",
       "    </tr>\n",
       "    <tr>\n",
       "      <th>2017-01-05</th>\n",
       "      <td>115.92</td>\n",
       "      <td>116.86</td>\n",
       "      <td>115.81</td>\n",
       "      <td>116.61</td>\n",
       "      <td>22193587</td>\n",
       "    </tr>\n",
       "    <tr>\n",
       "      <th>2017-01-04</th>\n",
       "      <td>115.85</td>\n",
       "      <td>116.51</td>\n",
       "      <td>115.75</td>\n",
       "      <td>116.02</td>\n",
       "      <td>21118116</td>\n",
       "    </tr>\n",
       "    <tr>\n",
       "      <th>2017-01-03</th>\n",
       "      <td>115.80</td>\n",
       "      <td>116.33</td>\n",
       "      <td>114.76</td>\n",
       "      <td>116.15</td>\n",
       "      <td>28781865</td>\n",
       "    </tr>\n",
       "  </tbody>\n",
       "</table>\n",
       "</div>"
      ],
      "text/plain": [
       "              Open    High     Low   Close    Volume\n",
       "Date                                                \n",
       "2017-01-31  121.15  121.39  120.62  121.35  49200993\n",
       "2017-01-30  120.93  121.63  120.66  121.63  30377503\n",
       "2017-01-27  122.14  122.35  121.60  121.95  20562944\n",
       "2017-01-26  121.67  122.44  121.60  121.94  26337576\n",
       "2017-01-25  120.42  122.10  120.28  121.88  32586673\n",
       "2017-01-24  119.55  120.10  119.50  119.97  23211038\n",
       "2017-01-23  120.00  120.81  119.77  120.08  22050218\n",
       "2017-01-20  120.45  120.45  119.73  120.00  32597892\n",
       "2017-01-19  119.40  120.09  119.37  119.78  25597291\n",
       "2017-01-18  120.00  120.50  119.71  119.99  23712961\n",
       "2017-01-17  118.34  120.24  118.22  120.00  34439843\n",
       "2017-01-13  119.11  119.62  118.81  119.04  26111948\n",
       "2017-01-12  118.90  119.30  118.21  119.25  27086220\n",
       "2017-01-11  118.74  119.93  118.60  119.75  27588593\n",
       "2017-01-10  118.77  119.38  118.30  119.11  24462051\n",
       "2017-01-09  117.95  119.43  117.94  118.99  33561948\n",
       "2017-01-06  116.78  118.16  116.47  117.91  31751900\n",
       "2017-01-05  115.92  116.86  115.81  116.61  22193587\n",
       "2017-01-04  115.85  116.51  115.75  116.02  21118116\n",
       "2017-01-03  115.80  116.33  114.76  116.15  28781865"
      ]
     },
     "execution_count": 18,
     "metadata": {},
     "output_type": "execute_result"
    }
   ],
   "source": [
    "# Retrieving data of Januray month.\n",
    "df.loc[\"2017-01\"]"
   ]
  },
  {
   "cell_type": "code",
   "execution_count": 20,
   "id": "8a77d08a-14ce-47d5-a882-3f0850b26b50",
   "metadata": {},
   "outputs": [
    {
     "data": {
      "text/plain": [
       "119.57000000000001"
      ]
     },
     "execution_count": 20,
     "metadata": {},
     "output_type": "execute_result"
    }
   ],
   "source": [
    "# Find average price of stock in Jan,2017\n",
    "df.loc[\"2017-01\"].Close.mean()"
   ]
  },
  {
   "cell_type": "code",
   "execution_count": 31,
   "id": "d1021a0d-f0ec-474e-832e-7f7d474144d5",
   "metadata": {},
   "outputs": [
    {
     "data": {
      "text/html": [
       "<div>\n",
       "<style scoped>\n",
       "    .dataframe tbody tr th:only-of-type {\n",
       "        vertical-align: middle;\n",
       "    }\n",
       "\n",
       "    .dataframe tbody tr th {\n",
       "        vertical-align: top;\n",
       "    }\n",
       "\n",
       "    .dataframe thead th {\n",
       "        text-align: right;\n",
       "    }\n",
       "</style>\n",
       "<table border=\"1\" class=\"dataframe\">\n",
       "  <thead>\n",
       "    <tr style=\"text-align: right;\">\n",
       "      <th></th>\n",
       "      <th>Open</th>\n",
       "      <th>High</th>\n",
       "      <th>Low</th>\n",
       "      <th>Close</th>\n",
       "      <th>Volume</th>\n",
       "    </tr>\n",
       "    <tr>\n",
       "      <th>Date</th>\n",
       "      <th></th>\n",
       "      <th></th>\n",
       "      <th></th>\n",
       "      <th></th>\n",
       "      <th></th>\n",
       "    </tr>\n",
       "  </thead>\n",
       "  <tbody>\n",
       "    <tr>\n",
       "      <th>2017-01-03</th>\n",
       "      <td>115.80</td>\n",
       "      <td>116.33</td>\n",
       "      <td>114.76</td>\n",
       "      <td>116.15</td>\n",
       "      <td>28781865</td>\n",
       "    </tr>\n",
       "    <tr>\n",
       "      <th>2017-01-04</th>\n",
       "      <td>115.85</td>\n",
       "      <td>116.51</td>\n",
       "      <td>115.75</td>\n",
       "      <td>116.02</td>\n",
       "      <td>21118116</td>\n",
       "    </tr>\n",
       "    <tr>\n",
       "      <th>2017-01-05</th>\n",
       "      <td>115.92</td>\n",
       "      <td>116.86</td>\n",
       "      <td>115.81</td>\n",
       "      <td>116.61</td>\n",
       "      <td>22193587</td>\n",
       "    </tr>\n",
       "    <tr>\n",
       "      <th>2017-01-06</th>\n",
       "      <td>116.78</td>\n",
       "      <td>118.16</td>\n",
       "      <td>116.47</td>\n",
       "      <td>117.91</td>\n",
       "      <td>31751900</td>\n",
       "    </tr>\n",
       "  </tbody>\n",
       "</table>\n",
       "</div>"
      ],
      "text/plain": [
       "              Open    High     Low   Close    Volume\n",
       "Date                                                \n",
       "2017-01-03  115.80  116.33  114.76  116.15  28781865\n",
       "2017-01-04  115.85  116.51  115.75  116.02  21118116\n",
       "2017-01-05  115.92  116.86  115.81  116.61  22193587\n",
       "2017-01-06  116.78  118.16  116.47  117.91  31751900"
      ]
     },
     "execution_count": 31,
     "metadata": {},
     "output_type": "execute_result"
    }
   ],
   "source": [
    "# In a range.\n",
    "df = df.sort_index()\n",
    "df[\"2017-01-01\":\"2017-01-07\"]"
   ]
  },
  {
   "cell_type": "markdown",
   "id": "35ccbf99-42a6-470b-80bf-22fd9c65426e",
   "metadata": {
    "jp-MarkdownHeadingCollapsed": true
   },
   "source": [
    "## Topic 2: Resampling"
   ]
  },
  {
   "cell_type": "code",
   "execution_count": 33,
   "id": "010bbce4-e959-4746-89e0-2aaeb56a6569",
   "metadata": {},
   "outputs": [
    {
     "data": {
      "text/plain": [
       "Date\n",
       "2016-07-31     99.473333\n",
       "2016-08-31    107.665217\n",
       "2016-09-30    110.857143\n",
       "2016-10-31    115.707143\n",
       "2016-11-30    110.154286\n",
       "2016-12-31    114.335714\n",
       "2017-01-31    119.570000\n",
       "2017-02-28    133.713684\n",
       "2017-03-31    140.617826\n",
       "2017-04-30    142.886842\n",
       "2017-05-31    152.227727\n",
       "2017-06-30    147.831364\n",
       "2017-07-31    143.625000\n",
       "Freq: M, Name: Close, dtype: float64"
      ]
     },
     "execution_count": 33,
     "metadata": {},
     "output_type": "execute_result"
    }
   ],
   "source": [
    "# Retrieving monthly data.\n",
    "df.Close.resample(\"M\").mean()"
   ]
  },
  {
   "cell_type": "code",
   "execution_count": 38,
   "id": "1ade4117-9024-4323-bce4-416cc9d10429",
   "metadata": {},
   "outputs": [
    {
     "data": {
      "text/plain": [
       "<Axes: xlabel='Date'>"
      ]
     },
     "execution_count": 38,
     "metadata": {},
     "output_type": "execute_result"
    },
    {
     "data": {
      "image/png": "[encoded data removed]",
      "text/plain": [
       "<Figure size 640x480 with 1 Axes>"
      ]
     },
     "metadata": {},
     "output_type": "display_data"
    }
   ],
   "source": [
    "# Plotting chart of monthly frequency.\n",
    "%matplotlib inline\n",
    "df.Close.resample(\"M\").mean().plot()"
   ]
  },
  {
   "cell_type": "code",
   "execution_count": 40,
   "id": "0f8c748b-eee6-40ed-9947-94ef9802882b",
   "metadata": {},
   "outputs": [
    {
     "data": {
      "text/plain": [
       "<Axes: xlabel='Date'>"
      ]
     },
     "execution_count": 40,
     "metadata": {},
     "output_type": "execute_result"
    },
    {
     "data": {
      "image/png": "[encoded data removed]",
      "text/plain": [
       "<Figure size 640x480 with 1 Axes>"
      ]
     },
     "metadata": {},
     "output_type": "display_data"
    }
   ],
   "source": [
    "# Plotting chart of mweekly frequency.\n",
    "df.Close.resample(\"W\").mean().plot()"
   ]
  },
  {
   "cell_type": "code",
   "execution_count": 41,
   "id": "5b5fc473-dec3-4a28-85aa-7f5008bfa695",
   "metadata": {},
   "outputs": [
    {
     "data": {
      "text/plain": [
       "<Axes: xlabel='Date'>"
      ]
     },
     "execution_count": 41,
     "metadata": {},
     "output_type": "execute_result"
    },
    {
     "data": {
      "image/png": "[encoded data removed]",
      "text/plain": [
       "<Figure size 640x480 with 1 Axes>"
      ]
     },
     "metadata": {},
     "output_type": "display_data"
    }
   ],
   "source": [
    "# Plotting chart of Quarterly frequency.\n",
    "df.Close.resample(\"Q\").mean().plot()"
   ]
  },
  {
   "cell_type": "code",
   "execution_count": 43,
   "id": "5bf7ad7a-9949-49ac-b3d3-57bceea736cf",
   "metadata": {},
   "outputs": [
    {
     "data": {
      "text/plain": [
       "<Axes: xlabel='Date'>"
      ]
     },
     "execution_count": 43,
     "metadata": {},
     "output_type": "execute_result"
    },
    {
     "data": {
      "image/png": "[encoded data removed]",
      "text/plain": [
       "<Figure size 640x480 with 1 Axes>"
      ]
     },
     "metadata": {},
     "output_type": "display_data"
    }
   ],
   "source": [
    "# Plotting bar chart.\n",
    "df.Close.resample(\"Q\").mean().plot(kind='bar')"
   ]
  },
  {
   "cell_type": "code",
   "execution_count": 44,
   "id": "fc680ff3-0db4-4ec6-94c5-7e9bb5e88d1e",
   "metadata": {},
   "outputs": [
    {
     "data": {
      "text/plain": [
       "<Axes: xlabel='Date'>"
      ]
     },
     "execution_count": 44,
     "metadata": {},
     "output_type": "execute_result"
    },
    {
     "data": {
      "image/png": "[encoded data removed]",
      "text/plain": [
       "<Figure size 640x480 with 1 Axes>"
      ]
     },
     "metadata": {},
     "output_type": "display_data"
    }
   ],
   "source": [
    "# Chart of overall data.\n",
    "df.Close.plot()"
   ]
  },
  {
   "cell_type": "markdown",
   "id": "588fe1dc-da25-4a9c-ac7f-d11e56dd5c5f",
   "metadata": {
    "jp-MarkdownHeadingCollapsed": true
   },
   "source": [
    "# Date Range."
   ]
  },
  {
   "cell_type": "code",
   "execution_count": 45,
   "id": "6eca1ab3-8c54-4efc-a2ab-fd944dbe956d",
   "metadata": {},
   "outputs": [
    {
     "data": {
      "text/html": [
       "<div>\n",
       "<style scoped>\n",
       "    .dataframe tbody tr th:only-of-type {\n",
       "        vertical-align: middle;\n",
       "    }\n",
       "\n",
       "    .dataframe tbody tr th {\n",
       "        vertical-align: top;\n",
       "    }\n",
       "\n",
       "    .dataframe thead th {\n",
       "        text-align: right;\n",
       "    }\n",
       "</style>\n",
       "<table border=\"1\" class=\"dataframe\">\n",
       "  <thead>\n",
       "    <tr style=\"text-align: right;\">\n",
       "      <th></th>\n",
       "      <th>Open</th>\n",
       "      <th>High</th>\n",
       "      <th>Low</th>\n",
       "      <th>Close</th>\n",
       "      <th>Volume</th>\n",
       "    </tr>\n",
       "  </thead>\n",
       "  <tbody>\n",
       "    <tr>\n",
       "      <th>0</th>\n",
       "      <td>153.17</td>\n",
       "      <td>153.33</td>\n",
       "      <td>152.22</td>\n",
       "      <td>153.18</td>\n",
       "      <td>16404088</td>\n",
       "    </tr>\n",
       "    <tr>\n",
       "      <th>1</th>\n",
       "      <td>153.58</td>\n",
       "      <td>155.45</td>\n",
       "      <td>152.89</td>\n",
       "      <td>155.45</td>\n",
       "      <td>27770715</td>\n",
       "    </tr>\n",
       "    <tr>\n",
       "      <th>2</th>\n",
       "      <td>154.34</td>\n",
       "      <td>154.45</td>\n",
       "      <td>153.46</td>\n",
       "      <td>153.93</td>\n",
       "      <td>25331662</td>\n",
       "    </tr>\n",
       "    <tr>\n",
       "      <th>3</th>\n",
       "      <td>153.90</td>\n",
       "      <td>155.81</td>\n",
       "      <td>153.78</td>\n",
       "      <td>154.45</td>\n",
       "      <td>26624926</td>\n",
       "    </tr>\n",
       "    <tr>\n",
       "      <th>4</th>\n",
       "      <td>155.02</td>\n",
       "      <td>155.98</td>\n",
       "      <td>154.48</td>\n",
       "      <td>155.37</td>\n",
       "      <td>21069647</td>\n",
       "    </tr>\n",
       "  </tbody>\n",
       "</table>\n",
       "</div>"
      ],
      "text/plain": [
       "     Open    High     Low   Close    Volume\n",
       "0  153.17  153.33  152.22  153.18  16404088\n",
       "1  153.58  155.45  152.89  155.45  27770715\n",
       "2  154.34  154.45  153.46  153.93  25331662\n",
       "3  153.90  155.81  153.78  154.45  26624926\n",
       "4  155.02  155.98  154.48  155.37  21069647"
      ]
     },
     "execution_count": 45,
     "metadata": {},
     "output_type": "execute_result"
    }
   ],
   "source": [
    "import pandas as pd\n",
    "df = pd.read_csv('aapl_no_dates.csv')\n",
    "df.head(5)"
   ]
  },
  {
   "cell_type": "code",
   "execution_count": 47,
   "id": "741eec65-b4fd-4202-8ce0-0b41e039c708",
   "metadata": {},
   "outputs": [
    {
     "data": {
      "text/plain": [
       "DatetimeIndex(['2017-06-01', '2017-06-02', '2017-06-05', '2017-06-06',\n",
       "               '2017-06-07', '2017-06-08', '2017-06-09', '2017-06-12',\n",
       "               '2017-06-13', '2017-06-14', '2017-06-15', '2017-06-16',\n",
       "               '2017-06-19', '2017-06-20', '2017-06-21', '2017-06-22',\n",
       "               '2017-06-23', '2017-06-26', '2017-06-27', '2017-06-28',\n",
       "               '2017-06-29', '2017-06-30'],\n",
       "              dtype='datetime64[ns]', freq='B')"
      ]
     },
     "execution_count": 47,
     "metadata": {},
     "output_type": "execute_result"
    }
   ],
   "source": [
    "# Generate dates and insert into data frame.\n",
    "rng = pd.date_range(start=\"6/1/2017\", end=\"6/30/2017\", freq=\"B\") \n",
    "# B means business days, which excludes weekends\n",
    "rng"
   ]
  },
  {
   "cell_type": "code",
   "execution_count": 50,
   "id": "bf0b8ba1-723c-4307-86a6-0a31625eca9c",
   "metadata": {},
   "outputs": [
    {
     "data": {
      "text/html": [
       "<div>\n",
       "<style scoped>\n",
       "    .dataframe tbody tr th:only-of-type {\n",
       "        vertical-align: middle;\n",
       "    }\n",
       "\n",
       "    .dataframe tbody tr th {\n",
       "        vertical-align: top;\n",
       "    }\n",
       "\n",
       "    .dataframe thead th {\n",
       "        text-align: right;\n",
       "    }\n",
       "</style>\n",
       "<table border=\"1\" class=\"dataframe\">\n",
       "  <thead>\n",
       "    <tr style=\"text-align: right;\">\n",
       "      <th></th>\n",
       "      <th>Open</th>\n",
       "      <th>High</th>\n",
       "      <th>Low</th>\n",
       "      <th>Close</th>\n",
       "      <th>Volume</th>\n",
       "    </tr>\n",
       "  </thead>\n",
       "  <tbody>\n",
       "    <tr>\n",
       "      <th>2017-06-01</th>\n",
       "      <td>153.17</td>\n",
       "      <td>153.33</td>\n",
       "      <td>152.22</td>\n",
       "      <td>153.18</td>\n",
       "      <td>16404088</td>\n",
       "    </tr>\n",
       "    <tr>\n",
       "      <th>2017-06-02</th>\n",
       "      <td>153.58</td>\n",
       "      <td>155.45</td>\n",
       "      <td>152.89</td>\n",
       "      <td>155.45</td>\n",
       "      <td>27770715</td>\n",
       "    </tr>\n",
       "    <tr>\n",
       "      <th>2017-06-05</th>\n",
       "      <td>154.34</td>\n",
       "      <td>154.45</td>\n",
       "      <td>153.46</td>\n",
       "      <td>153.93</td>\n",
       "      <td>25331662</td>\n",
       "    </tr>\n",
       "    <tr>\n",
       "      <th>2017-06-06</th>\n",
       "      <td>153.90</td>\n",
       "      <td>155.81</td>\n",
       "      <td>153.78</td>\n",
       "      <td>154.45</td>\n",
       "      <td>26624926</td>\n",
       "    </tr>\n",
       "    <tr>\n",
       "      <th>2017-06-07</th>\n",
       "      <td>155.02</td>\n",
       "      <td>155.98</td>\n",
       "      <td>154.48</td>\n",
       "      <td>155.37</td>\n",
       "      <td>21069647</td>\n",
       "    </tr>\n",
       "  </tbody>\n",
       "</table>\n",
       "</div>"
      ],
      "text/plain": [
       "              Open    High     Low   Close    Volume\n",
       "2017-06-01  153.17  153.33  152.22  153.18  16404088\n",
       "2017-06-02  153.58  155.45  152.89  155.45  27770715\n",
       "2017-06-05  154.34  154.45  153.46  153.93  25331662\n",
       "2017-06-06  153.90  155.81  153.78  154.45  26624926\n",
       "2017-06-07  155.02  155.98  154.48  155.37  21069647"
      ]
     },
     "execution_count": 50,
     "metadata": {},
     "output_type": "execute_result"
    }
   ],
   "source": [
    "# Setting dates as index.\n",
    "df.set_index(rng, inplace=True)\n",
    "df.head(5)"
   ]
  },
  {
   "cell_type": "code",
   "execution_count": 51,
   "id": "1394a4f2-d696-4177-adc6-1bca142e16d3",
   "metadata": {},
   "outputs": [
    {
     "data": {
      "text/plain": [
       "<Axes: >"
      ]
     },
     "execution_count": 51,
     "metadata": {},
     "output_type": "execute_result"
    },
    {
     "data": {
      "image/png": "[encoded data removed]",
      "text/plain": [
       "<Figure size 640x480 with 1 Axes>"
      ]
     },
     "metadata": {},
     "output_type": "display_data"
    }
   ],
   "source": [
    "%matplotlib inline\n",
    "df.Close.plot()"
   ]
  },
  {
   "cell_type": "code",
   "execution_count": 52,
   "id": "74d9c17a-c2cc-43a5-9fad-e18999b76e68",
   "metadata": {},
   "outputs": [
    {
     "data": {
      "text/plain": [
       "153.7642857142857"
      ]
     },
     "execution_count": 52,
     "metadata": {},
     "output_type": "execute_result"
    }
   ],
   "source": [
    "# We can do partial date selection using date_range function.\n",
    "df[\"2017-06-01\":\"2017-06-10\"].Close.mean()"
   ]
  },
  {
   "cell_type": "code",
   "execution_count": 53,
   "id": "2983b617-63b8-43df-b84d-111cb6fcbc58",
   "metadata": {},
   "outputs": [
    {
     "data": {
      "text/html": [
       "<div>\n",
       "<style scoped>\n",
       "    .dataframe tbody tr th:only-of-type {\n",
       "        vertical-align: middle;\n",
       "    }\n",
       "\n",
       "    .dataframe tbody tr th {\n",
       "        vertical-align: top;\n",
       "    }\n",
       "\n",
       "    .dataframe thead th {\n",
       "        text-align: right;\n",
       "    }\n",
       "</style>\n",
       "<table border=\"1\" class=\"dataframe\">\n",
       "  <thead>\n",
       "    <tr style=\"text-align: right;\">\n",
       "      <th></th>\n",
       "      <th>Open</th>\n",
       "      <th>High</th>\n",
       "      <th>Low</th>\n",
       "      <th>Close</th>\n",
       "      <th>Volume</th>\n",
       "    </tr>\n",
       "  </thead>\n",
       "  <tbody>\n",
       "    <tr>\n",
       "      <th>2017-06-01</th>\n",
       "      <td>153.17</td>\n",
       "      <td>153.33</td>\n",
       "      <td>152.22</td>\n",
       "      <td>153.18</td>\n",
       "      <td>16404088</td>\n",
       "    </tr>\n",
       "    <tr>\n",
       "      <th>2017-06-02</th>\n",
       "      <td>153.58</td>\n",
       "      <td>155.45</td>\n",
       "      <td>152.89</td>\n",
       "      <td>155.45</td>\n",
       "      <td>27770715</td>\n",
       "    </tr>\n",
       "    <tr>\n",
       "      <th>2017-06-03</th>\n",
       "      <td>153.58</td>\n",
       "      <td>155.45</td>\n",
       "      <td>152.89</td>\n",
       "      <td>155.45</td>\n",
       "      <td>27770715</td>\n",
       "    </tr>\n",
       "    <tr>\n",
       "      <th>2017-06-04</th>\n",
       "      <td>153.58</td>\n",
       "      <td>155.45</td>\n",
       "      <td>152.89</td>\n",
       "      <td>155.45</td>\n",
       "      <td>27770715</td>\n",
       "    </tr>\n",
       "    <tr>\n",
       "      <th>2017-06-05</th>\n",
       "      <td>154.34</td>\n",
       "      <td>154.45</td>\n",
       "      <td>153.46</td>\n",
       "      <td>153.93</td>\n",
       "      <td>25331662</td>\n",
       "    </tr>\n",
       "    <tr>\n",
       "      <th>2017-06-06</th>\n",
       "      <td>153.90</td>\n",
       "      <td>155.81</td>\n",
       "      <td>153.78</td>\n",
       "      <td>154.45</td>\n",
       "      <td>26624926</td>\n",
       "    </tr>\n",
       "    <tr>\n",
       "      <th>2017-06-07</th>\n",
       "      <td>155.02</td>\n",
       "      <td>155.98</td>\n",
       "      <td>154.48</td>\n",
       "      <td>155.37</td>\n",
       "      <td>21069647</td>\n",
       "    </tr>\n",
       "    <tr>\n",
       "      <th>2017-06-08</th>\n",
       "      <td>155.25</td>\n",
       "      <td>155.54</td>\n",
       "      <td>154.40</td>\n",
       "      <td>154.99</td>\n",
       "      <td>21250798</td>\n",
       "    </tr>\n",
       "    <tr>\n",
       "      <th>2017-06-09</th>\n",
       "      <td>155.19</td>\n",
       "      <td>155.19</td>\n",
       "      <td>146.02</td>\n",
       "      <td>148.98</td>\n",
       "      <td>64882657</td>\n",
       "    </tr>\n",
       "    <tr>\n",
       "      <th>2017-06-10</th>\n",
       "      <td>155.19</td>\n",
       "      <td>155.19</td>\n",
       "      <td>146.02</td>\n",
       "      <td>148.98</td>\n",
       "      <td>64882657</td>\n",
       "    </tr>\n",
       "    <tr>\n",
       "      <th>2017-06-11</th>\n",
       "      <td>155.19</td>\n",
       "      <td>155.19</td>\n",
       "      <td>146.02</td>\n",
       "      <td>148.98</td>\n",
       "      <td>64882657</td>\n",
       "    </tr>\n",
       "    <tr>\n",
       "      <th>2017-06-12</th>\n",
       "      <td>145.74</td>\n",
       "      <td>146.09</td>\n",
       "      <td>142.51</td>\n",
       "      <td>145.42</td>\n",
       "      <td>72307330</td>\n",
       "    </tr>\n",
       "    <tr>\n",
       "      <th>2017-06-13</th>\n",
       "      <td>147.16</td>\n",
       "      <td>147.45</td>\n",
       "      <td>145.15</td>\n",
       "      <td>146.59</td>\n",
       "      <td>34165445</td>\n",
       "    </tr>\n",
       "    <tr>\n",
       "      <th>2017-06-14</th>\n",
       "      <td>147.50</td>\n",
       "      <td>147.50</td>\n",
       "      <td>143.84</td>\n",
       "      <td>145.16</td>\n",
       "      <td>31531232</td>\n",
       "    </tr>\n",
       "    <tr>\n",
       "      <th>2017-06-15</th>\n",
       "      <td>143.32</td>\n",
       "      <td>144.48</td>\n",
       "      <td>142.21</td>\n",
       "      <td>144.29</td>\n",
       "      <td>32165373</td>\n",
       "    </tr>\n",
       "    <tr>\n",
       "      <th>2017-06-16</th>\n",
       "      <td>143.78</td>\n",
       "      <td>144.50</td>\n",
       "      <td>142.20</td>\n",
       "      <td>142.27</td>\n",
       "      <td>50361093</td>\n",
       "    </tr>\n",
       "    <tr>\n",
       "      <th>2017-06-17</th>\n",
       "      <td>143.78</td>\n",
       "      <td>144.50</td>\n",
       "      <td>142.20</td>\n",
       "      <td>142.27</td>\n",
       "      <td>50361093</td>\n",
       "    </tr>\n",
       "    <tr>\n",
       "      <th>2017-06-18</th>\n",
       "      <td>143.78</td>\n",
       "      <td>144.50</td>\n",
       "      <td>142.20</td>\n",
       "      <td>142.27</td>\n",
       "      <td>50361093</td>\n",
       "    </tr>\n",
       "    <tr>\n",
       "      <th>2017-06-19</th>\n",
       "      <td>143.66</td>\n",
       "      <td>146.74</td>\n",
       "      <td>143.66</td>\n",
       "      <td>146.34</td>\n",
       "      <td>32541404</td>\n",
       "    </tr>\n",
       "    <tr>\n",
       "      <th>2017-06-20</th>\n",
       "      <td>146.87</td>\n",
       "      <td>146.87</td>\n",
       "      <td>144.94</td>\n",
       "      <td>145.01</td>\n",
       "      <td>24900073</td>\n",
       "    </tr>\n",
       "    <tr>\n",
       "      <th>2017-06-21</th>\n",
       "      <td>145.52</td>\n",
       "      <td>146.07</td>\n",
       "      <td>144.61</td>\n",
       "      <td>145.87</td>\n",
       "      <td>21265751</td>\n",
       "    </tr>\n",
       "    <tr>\n",
       "      <th>2017-06-22</th>\n",
       "      <td>145.77</td>\n",
       "      <td>146.70</td>\n",
       "      <td>145.12</td>\n",
       "      <td>145.63</td>\n",
       "      <td>19106294</td>\n",
       "    </tr>\n",
       "    <tr>\n",
       "      <th>2017-06-23</th>\n",
       "      <td>145.13</td>\n",
       "      <td>147.16</td>\n",
       "      <td>145.11</td>\n",
       "      <td>146.28</td>\n",
       "      <td>35439389</td>\n",
       "    </tr>\n",
       "    <tr>\n",
       "      <th>2017-06-24</th>\n",
       "      <td>145.13</td>\n",
       "      <td>147.16</td>\n",
       "      <td>145.11</td>\n",
       "      <td>146.28</td>\n",
       "      <td>35439389</td>\n",
       "    </tr>\n",
       "    <tr>\n",
       "      <th>2017-06-25</th>\n",
       "      <td>145.13</td>\n",
       "      <td>147.16</td>\n",
       "      <td>145.11</td>\n",
       "      <td>146.28</td>\n",
       "      <td>35439389</td>\n",
       "    </tr>\n",
       "    <tr>\n",
       "      <th>2017-06-26</th>\n",
       "      <td>147.17</td>\n",
       "      <td>148.28</td>\n",
       "      <td>145.38</td>\n",
       "      <td>145.82</td>\n",
       "      <td>25692361</td>\n",
       "    </tr>\n",
       "    <tr>\n",
       "      <th>2017-06-27</th>\n",
       "      <td>145.01</td>\n",
       "      <td>146.16</td>\n",
       "      <td>143.62</td>\n",
       "      <td>143.73</td>\n",
       "      <td>24761891</td>\n",
       "    </tr>\n",
       "    <tr>\n",
       "      <th>2017-06-28</th>\n",
       "      <td>144.49</td>\n",
       "      <td>146.11</td>\n",
       "      <td>143.16</td>\n",
       "      <td>145.83</td>\n",
       "      <td>22082432</td>\n",
       "    </tr>\n",
       "    <tr>\n",
       "      <th>2017-06-29</th>\n",
       "      <td>144.71</td>\n",
       "      <td>145.13</td>\n",
       "      <td>142.28</td>\n",
       "      <td>143.68</td>\n",
       "      <td>31499368</td>\n",
       "    </tr>\n",
       "    <tr>\n",
       "      <th>2017-06-30</th>\n",
       "      <td>144.45</td>\n",
       "      <td>144.96</td>\n",
       "      <td>143.78</td>\n",
       "      <td>144.02</td>\n",
       "      <td>23024107</td>\n",
       "    </tr>\n",
       "  </tbody>\n",
       "</table>\n",
       "</div>"
      ],
      "text/plain": [
       "              Open    High     Low   Close    Volume\n",
       "2017-06-01  153.17  153.33  152.22  153.18  16404088\n",
       "2017-06-02  153.58  155.45  152.89  155.45  27770715\n",
       "2017-06-03  153.58  155.45  152.89  155.45  27770715\n",
       "2017-06-04  153.58  155.45  152.89  155.45  27770715\n",
       "2017-06-05  154.34  154.45  153.46  153.93  25331662\n",
       "2017-06-06  153.90  155.81  153.78  154.45  26624926\n",
       "2017-06-07  155.02  155.98  154.48  155.37  21069647\n",
       "2017-06-08  155.25  155.54  154.40  154.99  21250798\n",
       "2017-06-09  155.19  155.19  146.02  148.98  64882657\n",
       "2017-06-10  155.19  155.19  146.02  148.98  64882657\n",
       "2017-06-11  155.19  155.19  146.02  148.98  64882657\n",
       "2017-06-12  145.74  146.09  142.51  145.42  72307330\n",
       "2017-06-13  147.16  147.45  145.15  146.59  34165445\n",
       "2017-06-14  147.50  147.50  143.84  145.16  31531232\n",
       "2017-06-15  143.32  144.48  142.21  144.29  32165373\n",
       "2017-06-16  143.78  144.50  142.20  142.27  50361093\n",
       "2017-06-17  143.78  144.50  142.20  142.27  50361093\n",
       "2017-06-18  143.78  144.50  142.20  142.27  50361093\n",
       "2017-06-19  143.66  146.74  143.66  146.34  32541404\n",
       "2017-06-20  146.87  146.87  144.94  145.01  24900073\n",
       "2017-06-21  145.52  146.07  144.61  145.87  21265751\n",
       "2017-06-22  145.77  146.70  145.12  145.63  19106294\n",
       "2017-06-23  145.13  147.16  145.11  146.28  35439389\n",
       "2017-06-24  145.13  147.16  145.11  146.28  35439389\n",
       "2017-06-25  145.13  147.16  145.11  146.28  35439389\n",
       "2017-06-26  147.17  148.28  145.38  145.82  25692361\n",
       "2017-06-27  145.01  146.16  143.62  143.73  24761891\n",
       "2017-06-28  144.49  146.11  143.16  145.83  22082432\n",
       "2017-06-29  144.71  145.13  142.28  143.68  31499368\n",
       "2017-06-30  144.45  144.96  143.78  144.02  23024107"
      ]
     },
     "execution_count": 53,
     "metadata": {},
     "output_type": "execute_result"
    }
   ],
   "source": [
    "# In data frame, weekends days datas are not present. Putting datas into the empty dates.\n",
    "df.asfreq(\"D\", method=\"pad\") # Days includes the weekend. "
   ]
  },
  {
   "cell_type": "code",
   "execution_count": 55,
   "id": "8b9ebdc5-bc6c-43e5-9cb7-8711ee954a8a",
   "metadata": {},
   "outputs": [
    {
     "data": {
      "text/html": [
       "<div>\n",
       "<style scoped>\n",
       "    .dataframe tbody tr th:only-of-type {\n",
       "        vertical-align: middle;\n",
       "    }\n",
       "\n",
       "    .dataframe tbody tr th {\n",
       "        vertical-align: top;\n",
       "    }\n",
       "\n",
       "    .dataframe thead th {\n",
       "        text-align: right;\n",
       "    }\n",
       "</style>\n",
       "<table border=\"1\" class=\"dataframe\">\n",
       "  <thead>\n",
       "    <tr style=\"text-align: right;\">\n",
       "      <th></th>\n",
       "      <th>Open</th>\n",
       "      <th>High</th>\n",
       "      <th>Low</th>\n",
       "      <th>Close</th>\n",
       "      <th>Volume</th>\n",
       "    </tr>\n",
       "  </thead>\n",
       "  <tbody>\n",
       "    <tr>\n",
       "      <th>2017-06-04</th>\n",
       "      <td>153.58</td>\n",
       "      <td>155.45</td>\n",
       "      <td>152.89</td>\n",
       "      <td>155.45</td>\n",
       "      <td>27770715</td>\n",
       "    </tr>\n",
       "    <tr>\n",
       "      <th>2017-06-11</th>\n",
       "      <td>155.19</td>\n",
       "      <td>155.19</td>\n",
       "      <td>146.02</td>\n",
       "      <td>148.98</td>\n",
       "      <td>64882657</td>\n",
       "    </tr>\n",
       "    <tr>\n",
       "      <th>2017-06-18</th>\n",
       "      <td>143.78</td>\n",
       "      <td>144.50</td>\n",
       "      <td>142.20</td>\n",
       "      <td>142.27</td>\n",
       "      <td>50361093</td>\n",
       "    </tr>\n",
       "    <tr>\n",
       "      <th>2017-06-25</th>\n",
       "      <td>145.13</td>\n",
       "      <td>147.16</td>\n",
       "      <td>145.11</td>\n",
       "      <td>146.28</td>\n",
       "      <td>35439389</td>\n",
       "    </tr>\n",
       "  </tbody>\n",
       "</table>\n",
       "</div>"
      ],
      "text/plain": [
       "              Open    High     Low   Close    Volume\n",
       "2017-06-04  153.58  155.45  152.89  155.45  27770715\n",
       "2017-06-11  155.19  155.19  146.02  148.98  64882657\n",
       "2017-06-18  143.78  144.50  142.20  142.27  50361093\n",
       "2017-06-25  145.13  147.16  145.11  146.28  35439389"
      ]
     },
     "execution_count": 55,
     "metadata": {},
     "output_type": "execute_result"
    }
   ],
   "source": [
    "# Weekly datas.\n",
    "df.asfreq(\"W\", method=\"pad\")"
   ]
  },
  {
   "cell_type": "code",
   "execution_count": 59,
   "id": "eb7709bf-4957-4e3a-85ba-350741a6df2f",
   "metadata": {},
   "outputs": [
    {
     "data": {
      "text/plain": [
       "DatetimeIndex(['2017-01-02', '2017-01-03', '2017-01-04', '2017-01-05',\n",
       "               '2017-01-06', '2017-01-09', '2017-01-10', '2017-01-11',\n",
       "               '2017-01-12', '2017-01-13', '2017-01-16', '2017-01-17',\n",
       "               '2017-01-18', '2017-01-19', '2017-01-20', '2017-01-23',\n",
       "               '2017-01-24', '2017-01-25', '2017-01-26', '2017-01-27',\n",
       "               '2017-01-30', '2017-01-31', '2017-02-01', '2017-02-02',\n",
       "               '2017-02-03', '2017-02-06', '2017-02-07', '2017-02-08',\n",
       "               '2017-02-09', '2017-02-10', '2017-02-13', '2017-02-14',\n",
       "               '2017-02-15', '2017-02-16', '2017-02-17', '2017-02-20',\n",
       "               '2017-02-21', '2017-02-22', '2017-02-23', '2017-02-24',\n",
       "               '2017-02-27', '2017-02-28', '2017-03-01', '2017-03-02',\n",
       "               '2017-03-03', '2017-03-06', '2017-03-07', '2017-03-08',\n",
       "               '2017-03-09', '2017-03-10', '2017-03-13', '2017-03-14',\n",
       "               '2017-03-15', '2017-03-16', '2017-03-17', '2017-03-20',\n",
       "               '2017-03-21', '2017-03-22', '2017-03-23', '2017-03-24',\n",
       "               '2017-03-27', '2017-03-28', '2017-03-29', '2017-03-30',\n",
       "               '2017-03-31', '2017-04-03', '2017-04-04', '2017-04-05',\n",
       "               '2017-04-06', '2017-04-07', '2017-04-10', '2017-04-11'],\n",
       "              dtype='datetime64[ns]', freq='B')"
      ]
     },
     "execution_count": 59,
     "metadata": {},
     "output_type": "execute_result"
    }
   ],
   "source": [
    "# Say we know periods and the start date. But don't know the end date.\n",
    "new_rng = pd.date_range(start=\"1/1/2017\", periods=72, freq=\"B\")  # Excludes weekends.\n",
    "new_rng"
   ]
  },
  {
   "cell_type": "code",
   "execution_count": 63,
   "id": "144bbb1c-0c87-4eac-a2e8-4dfacbdf984b",
   "metadata": {},
   "outputs": [
    {
     "data": {
      "text/plain": [
       "2017-01-02    5\n",
       "2017-01-03    9\n",
       "2017-01-04    7\n",
       "2017-01-05    3\n",
       "2017-01-06    1\n",
       "2017-01-09    1\n",
       "2017-01-10    5\n",
       "2017-01-11    7\n",
       "2017-01-12    8\n",
       "2017-01-13    1\n",
       "Freq: B, dtype: int32"
      ]
     },
     "execution_count": 63,
     "metadata": {},
     "output_type": "execute_result"
    }
   ],
   "source": [
    "# Generating some fake datas for test data. Using numpy.\n",
    "import numpy as np\n",
    "# start = 1, to=10, how many numbers= 72(rng)\n",
    "# Generating pandas series.\n",
    "ts = pd.Series(np.random.randint(1,10,len(new_rng)), index=new_rng)\n",
    "ts.head(10)"
   ]
  },
  {
   "cell_type": "markdown",
   "id": "5cfb3724-2068-45f9-9e12-1805a3892322",
   "metadata": {},
   "source": [
    "Date_range only handles weekends but not special days like independence days etc.\n",
    "For this we use Holidays."
   ]
  },
  {
   "cell_type": "markdown",
   "id": "614aeeac-7f90-48f9-8012-31fe23365c26",
   "metadata": {},
   "source": [
    "# Pandas Holidays."
   ]
  },
  {
   "cell_type": "code",
   "execution_count": null,
   "id": "db13a034-fc08-4df8-9e40-444adca6dc3d",
   "metadata": {},
   "outputs": [],
   "source": []
  }
 ],
 "metadata": {
  "kernelspec": {
   "display_name": "Python 3 (ipykernel)",
   "language": "python",
   "name": "python3"
  },
  "language_info": {
   "codemirror_mode": {
    "name": "ipython",
    "version": 3
   },
   "file_extension": ".py",
   "mimetype": "text/x-python",
   "name": "python",
   "nbconvert_exporter": "python",
   "pygments_lexer": "ipython3",
   "version": "3.11.7"
  }
 },
 "nbformat": 4,
 "nbformat_minor": 5
}

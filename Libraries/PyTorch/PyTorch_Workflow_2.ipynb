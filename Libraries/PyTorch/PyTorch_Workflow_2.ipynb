{
  "nbformat": 4,
  "nbformat_minor": 0,
  "metadata": {
    "colab": {
      "provenance": [],
      "collapsed_sections": [
        "aY3TdrphF0Mm",
        "kDdiTEYTF4Id",
        "YTNe7pZNF73r",
        "aPU0bCOCF-Y7",
        "nzp7ha17JaIR"
      ],
      "gpuType": "T4"
    },
    "kernelspec": {
      "name": "python3",
      "display_name": "Python 3"
    },
    "language_info": {
      "name": "python"
    },
    "accelerator": "GPU"
  },
  "cells": [
    {
      "cell_type": "markdown",
      "source": [
        "## Importing libraries"
      ],
      "metadata": {
        "id": "aY3TdrphF0Mm"
      }
    },
    {
      "cell_type": "code",
      "source": [
        "import torch\n",
        "from torch import nn\n",
        "import matplotlib.pyplot as plt"
      ],
      "metadata": {
        "id": "aWavm0NyEOi_"
      },
      "execution_count": null,
      "outputs": []
    },
    {
      "cell_type": "markdown",
      "source": [
        "## Device agnostic code."
      ],
      "metadata": {
        "id": "kDdiTEYTF4Id"
      }
    },
    {
      "cell_type": "code",
      "source": [
        "# Setup device agnostic code.\n",
        "device = \"cuda\" if torch.cuda.is_available() else \"cpu\"\n",
        "print(f\"Using deivice: {device}\")"
      ],
      "metadata": {
        "colab": {
          "base_uri": "https://localhost:8080/"
        },
        "id": "34uD_SbQET2-",
        "outputId": "e285427c-31a3-4315-b5c3-d4e61e1d646f"
      },
      "execution_count": null,
      "outputs": [
        {
          "output_type": "stream",
          "name": "stdout",
          "text": [
            "Using deivice: cuda\n"
          ]
        }
      ]
    },
    {
      "cell_type": "markdown",
      "source": [
        "## Creating dataset."
      ],
      "metadata": {
        "id": "YTNe7pZNF73r"
      }
    },
    {
      "cell_type": "code",
      "execution_count": null,
      "metadata": {
        "colab": {
          "base_uri": "https://localhost:8080/"
        },
        "id": "zhbLt5p3Df_n",
        "outputId": "21187583-31f2-4634-ee3e-5d6c13ebb7ba"
      },
      "outputs": [
        {
          "output_type": "execute_result",
          "data": {
            "text/plain": [
              "(tensor([[0.0000],\n",
              "         [0.0200],\n",
              "         [0.0400],\n",
              "         [0.0600],\n",
              "         [0.0800],\n",
              "         [0.1000],\n",
              "         [0.1200],\n",
              "         [0.1400],\n",
              "         [0.1600],\n",
              "         [0.1800]]),\n",
              " tensor([[0.2000],\n",
              "         [0.2160],\n",
              "         [0.2320],\n",
              "         [0.2480],\n",
              "         [0.2640],\n",
              "         [0.2800],\n",
              "         [0.2960],\n",
              "         [0.3120],\n",
              "         [0.3280],\n",
              "         [0.3440]]))"
            ]
          },
          "metadata": {},
          "execution_count": 3
        }
      ],
      "source": [
        "# Creating dataset using Linear Regression Formula.\n",
        "weight = 0.8\n",
        "bias = 0.2\n",
        "\n",
        "# Creating dataset in a range.\n",
        "start = 0\n",
        "end = 1\n",
        "step = 0.02\n",
        "\n",
        "# Create X and y(features.)\n",
        "X = torch.arange(start, end, step).unsqueeze(dim=1)\n",
        "y = weight * X + bias\n",
        "X[:10], y[:10]"
      ]
    },
    {
      "cell_type": "markdown",
      "source": [
        "## Split data."
      ],
      "metadata": {
        "id": "aPU0bCOCF-Y7"
      }
    },
    {
      "cell_type": "code",
      "source": [
        "train_split = int(0.8*len(X))\n",
        "X_train, y_train = X[:train_split], y[:train_split]\n",
        "X_test, y_test = X[train_split:], y[train_split:]\n",
        "len(X_train), len(y_train), len(X_test), len(y_test)"
      ],
      "metadata": {
        "colab": {
          "base_uri": "https://localhost:8080/"
        },
        "id": "1PR2RxdVEvvF",
        "outputId": "be91c4ea-7177-4123-bf23-4fcbf56c8ad2"
      },
      "execution_count": null,
      "outputs": [
        {
          "output_type": "execute_result",
          "data": {
            "text/plain": [
              "(40, 40, 10, 10)"
            ]
          },
          "metadata": {},
          "execution_count": 4
        }
      ]
    },
    {
      "cell_type": "code",
      "source": [
        "## Vizualize the dataset."
      ],
      "metadata": {
        "id": "MoC9G_mTFYIj"
      },
      "execution_count": null,
      "outputs": []
    },
    {
      "cell_type": "code",
      "source": [
        "def plot_predictions( train_data = X_train,\n",
        "                      train_labels = y_train,\n",
        "                      test_data = X_test,\n",
        "                      test_labels = y_test,\n",
        "                      predictions = None):\n",
        "  plt.figure(figsize = (10,7))\n",
        "\n",
        "  # Plot training data in blue.\n",
        "  plt.scatter(train_data, train_labels, c=\"b\", s=4, label=\"Training data\")\n",
        "\n",
        "  # Plot testing data in green.\n",
        "  plt.scatter(test_data, test_labels, c=\"g\", s=4, label=\"Testing data\")\n",
        "\n",
        "  # Are there any predictions.\n",
        "  if predictions is not None:\n",
        "    plt.scatter(test_data, predictions, c=\"r\", s=4, label=\"Predictions\")\n",
        "\n",
        "  # Show legend.\n",
        "  plt.legend(prop={\"size\":14})\n"
      ],
      "metadata": {
        "id": "W1dBvoMaGF8-"
      },
      "execution_count": null,
      "outputs": []
    },
    {
      "cell_type": "code",
      "source": [
        "plot_predictions()"
      ],
      "metadata": {
        "colab": {
          "base_uri": "https://localhost:8080/"
        },
        "id": "JT2HYbBUG76h",
        "outputId": "d6da7e4c-9df3-4467-9182-bb8aa648e049"
      },
      "execution_count": null,
      "outputs": [
        {
          "output_type": "display_data",
          "data": {
            "text/plain": [
              "<Figure size 1000x700 with 1 Axes>"
            ],
            "image/png": "[encoded data removed]"
          },
          "metadata": {}
        }
      ]
    },
    {
      "cell_type": "markdown",
      "source": [
        "## Creating Linear Regression Model."
      ],
      "metadata": {
        "id": "lQaiGAySHxBr"
      }
    },
    {
      "cell_type": "code",
      "source": [
        "class LinearRegressionModelV2(nn.Module):\n",
        "  def __init__(self):\n",
        "    super().__init__()\n",
        "    self.linear_layer = nn.Linear(in_features = 1,\n",
        "                                  out_features=1)\n",
        "\n",
        "    # self.weight = nn.Parameter(torch.randn(1,\n",
        "    #                                        requires_grad=True,\n",
        "    #                                        dtype=torch.float))\n",
        "    # self.bias = nn.Parameter(torch.randn(1,\n",
        "    #                                        requires_grad=True,\n",
        "    #                                        dtype=torch.float))\n",
        "\n",
        "  def forward(self, x:torch.Tensor) -> torch.Tensor:\n",
        "    return self.linear_layer(x)"
      ],
      "metadata": {
        "id": "MT-EuCbzHDIT"
      },
      "execution_count": null,
      "outputs": []
    },
    {
      "cell_type": "code",
      "source": [
        "# Create random seed\n",
        "torch.manual_seed(42)\n",
        "\n",
        "model_0 = LinearRegressionModelV2()\n",
        "\n",
        "list(model_0.parameters())"
      ],
      "metadata": {
        "colab": {
          "base_uri": "https://localhost:8080/"
        },
        "id": "Wy9yPImxIXhN",
        "outputId": "3a8a186d-f6df-4968-d41b-7a05ef4596dc"
      },
      "execution_count": null,
      "outputs": [
        {
          "output_type": "execute_result",
          "data": {
            "text/plain": [
              "[Parameter containing:\n",
              " tensor([[0.7645]], requires_grad=True),\n",
              " Parameter containing:\n",
              " tensor([0.8300], requires_grad=True)]"
            ]
          },
          "metadata": {},
          "execution_count": 9
        }
      ]
    },
    {
      "cell_type": "code",
      "source": [
        "model_0.state_dict()"
      ],
      "metadata": {
        "colab": {
          "base_uri": "https://localhost:8080/"
        },
        "id": "KiuKQWWnI8Er",
        "outputId": "d20f1be4-b8f5-4c2a-9004-62c2571631b2"
      },
      "execution_count": null,
      "outputs": [
        {
          "output_type": "execute_result",
          "data": {
            "text/plain": [
              "OrderedDict([('linear_layer.weight', tensor([[0.7645]])),\n",
              "             ('linear_layer.bias', tensor([0.8300]))])"
            ]
          },
          "metadata": {},
          "execution_count": 10
        }
      ]
    },
    {
      "cell_type": "markdown",
      "source": [
        "## Making predictions using `torch.inference_model()`"
      ],
      "metadata": {
        "id": "nzp7ha17JaIR"
      }
    },
    {
      "cell_type": "code",
      "source": [
        "len(X_test)"
      ],
      "metadata": {
        "colab": {
          "base_uri": "https://localhost:8080/"
        },
        "id": "xUWe8cLTM2-Y",
        "outputId": "2b015763-0bd1-4d06-be49-bc9d1f9a6ec5"
      },
      "execution_count": null,
      "outputs": [
        {
          "output_type": "execute_result",
          "data": {
            "text/plain": [
              "10"
            ]
          },
          "metadata": {},
          "execution_count": 11
        }
      ]
    },
    {
      "cell_type": "code",
      "source": [
        "with torch.inference_mode():\n",
        "  y_preds = model_0(X_test)\n",
        "\n",
        "len(y_preds)"
      ],
      "metadata": {
        "colab": {
          "base_uri": "https://localhost:8080/"
        },
        "id": "Fia1kd1sJFOH",
        "outputId": "ee662e8b-983d-4193-dc95-87b400ec0c42"
      },
      "execution_count": null,
      "outputs": [
        {
          "output_type": "execute_result",
          "data": {
            "text/plain": [
              "10"
            ]
          },
          "metadata": {},
          "execution_count": 12
        }
      ]
    },
    {
      "cell_type": "code",
      "source": [
        "len(y_test)"
      ],
      "metadata": {
        "colab": {
          "base_uri": "https://localhost:8080/"
        },
        "id": "gEhoHwRnMLmH",
        "outputId": "bfa0b16b-4462-4cbf-dc53-9a3b88bc08d1"
      },
      "execution_count": null,
      "outputs": [
        {
          "output_type": "execute_result",
          "data": {
            "text/plain": [
              "10"
            ]
          },
          "metadata": {},
          "execution_count": 13
        }
      ]
    },
    {
      "cell_type": "code",
      "source": [
        "plot_predictions(predictions=y_preds)"
      ],
      "metadata": {
        "colab": {
          "base_uri": "https://localhost:8080/"
        },
        "id": "MSjGv_OoKX3R",
        "outputId": "66d53c33-1357-4928-ae05-d939c777ba45"
      },
      "execution_count": null,
      "outputs": [
        {
          "output_type": "display_data",
          "data": {
            "text/plain": [
              "<Figure size 1000x700 with 1 Axes>"
            ],
            "image/png": "[encoded data removed]"
          },
          "metadata": {}
        }
      ]
    },
    {
      "cell_type": "markdown",
      "source": [
        "## Training the model."
      ],
      "metadata": {
        "id": "bfZprsxENe4y"
      }
    },
    {
      "cell_type": "code",
      "source": [
        "list(model_0.parameters())"
      ],
      "metadata": {
        "colab": {
          "base_uri": "https://localhost:8080/"
        },
        "id": "As4PnfkhKc_r",
        "outputId": "3f366030-1e1b-4177-a5b6-a9b67b4dabee"
      },
      "execution_count": null,
      "outputs": [
        {
          "output_type": "execute_result",
          "data": {
            "text/plain": [
              "[Parameter containing:\n",
              " tensor([[0.7645]], requires_grad=True),\n",
              " Parameter containing:\n",
              " tensor([0.8300], requires_grad=True)]"
            ]
          },
          "metadata": {},
          "execution_count": 15
        }
      ]
    },
    {
      "cell_type": "code",
      "source": [
        "model_0.state_dict()"
      ],
      "metadata": {
        "colab": {
          "base_uri": "https://localhost:8080/"
        },
        "id": "2ixR_HJxNpLl",
        "outputId": "51d6b5c2-53e1-48d8-ba68-83306a6019da"
      },
      "execution_count": null,
      "outputs": [
        {
          "output_type": "execute_result",
          "data": {
            "text/plain": [
              "OrderedDict([('linear_layer.weight', tensor([[0.7645]])),\n",
              "             ('linear_layer.bias', tensor([0.8300]))])"
            ]
          },
          "metadata": {},
          "execution_count": 16
        }
      ]
    },
    {
      "cell_type": "code",
      "source": [
        "# Setting up loss function.\n",
        "loss_fn = nn.L1Loss()\n",
        "\n",
        "# Setting up optimizer.\n",
        "optimizer = torch.optim.SGD(model_0.parameters(), lr=0.01)"
      ],
      "metadata": {
        "id": "ZLRfPzEYNuCR"
      },
      "execution_count": null,
      "outputs": []
    },
    {
      "cell_type": "markdown",
      "source": [
        "## Building Training loop."
      ],
      "metadata": {
        "id": "SyBfynhSOUaM"
      }
    },
    {
      "cell_type": "code",
      "source": [
        "torch.manual_seed(42)\n",
        "\n",
        "# An epoch is one loop through the data.\n",
        "epochs = 200\n",
        "\n",
        "#Keeping track of model progress.\n",
        "epoch_count = []\n",
        "loss_values = []\n",
        "test_loss_values = []\n",
        "\n",
        "### Training.\n",
        "#Loop through the data.\n",
        "for epoch in range(epochs):\n",
        "  # Set the model to training mode.\n",
        "  model_0.train() # Turns on all gradient tracking.\n",
        "\n",
        "  # Forward pass.\n",
        "  y_pred = model_0(X_train)\n",
        "\n",
        "  # Calculate the loss.\n",
        "  loss = loss_fn(y_pred, y_train)\n",
        "  print(f\"Loss: {loss}\")\n",
        "\n",
        "  # Optimizer zero grad.\n",
        "  optimizer.zero_grad()\n",
        "\n",
        "  # Perform back propagation on the loss with respect to the parameters of the model.\n",
        "  loss.backward()\n",
        "\n",
        "  # Step the optimizer.\n",
        "  optimizer.step()\n",
        "\n",
        "  ### Testing\n",
        "  model_0.eval() #turns off different settings in the model.\n",
        "  with torch.inference_mode():\n",
        "    #1.Do forward pass.\n",
        "    test_pred = model_0(X_test)\n",
        "\n",
        "    #2.Calculate the loss.\n",
        "    test_loss = loss_fn(test_pred, y_test)\n",
        "\n",
        "  if epoch%10 ==0:\n",
        "    epoch_count.append(epoch)\n",
        "    loss_values.append(loss_values)\n",
        "    test_loss_values.append(test_loss_values)\n",
        "\n",
        "    print(f\"Epoch: {epoch} | Test loss: {test_loss}\")\n",
        "    #Print model.\n",
        "    print(model_0.state_dict())"
      ],
      "metadata": {
        "colab": {
          "base_uri": "https://localhost:8080/"
        },
        "id": "EYrkjUcYN-Tv",
        "outputId": "9be82b7b-da1a-4571-fcb8-93255fa55ab1"
      },
      "execution_count": null,
      "outputs": [
        {
          "output_type": "stream",
          "name": "stdout",
          "text": [
            "Loss: 0.6161779165267944\n",
            "Epoch: 0 | Test loss: 0.584976315498352\n",
            "OrderedDict([('linear_layer.weight', tensor([[0.7606]])), ('linear_layer.bias', tensor([0.8200]))])\n",
            "Loss: 0.6046569347381592\n",
            "Loss: 0.5931359529495239\n",
            "Loss: 0.5816149711608887\n",
            "Loss: 0.5700939893722534\n",
            "Loss: 0.5585730075836182\n",
            "Loss: 0.5470520257949829\n",
            "Loss: 0.5355310440063477\n",
            "Loss: 0.5240100026130676\n",
            "Loss: 0.5124890208244324\n",
            "Loss: 0.5009680986404419\n",
            "Epoch: 10 | Test loss: 0.45026636123657227\n",
            "OrderedDict([('linear_layer.weight', tensor([[0.7216]])), ('linear_layer.bias', tensor([0.7200]))])\n",
            "Loss: 0.48944711685180664\n",
            "Loss: 0.47792601585388184\n",
            "Loss: 0.46640509366989136\n",
            "Loss: 0.4548841118812561\n",
            "Loss: 0.44336310029029846\n",
            "Loss: 0.4318421483039856\n",
            "Loss: 0.42032113671302795\n",
            "Loss: 0.4088001847267151\n",
            "Loss: 0.39727917313575745\n",
            "Loss: 0.3857582211494446\n",
            "Epoch: 20 | Test loss: 0.3155565857887268\n",
            "OrderedDict([('linear_layer.weight', tensor([[0.6826]])), ('linear_layer.bias', tensor([0.6200]))])\n",
            "Loss: 0.37423717975616455\n",
            "Loss: 0.3627161979675293\n",
            "Loss: 0.35119521617889404\n",
            "Loss: 0.33967429399490356\n",
            "Loss: 0.32815322279930115\n",
            "Loss: 0.31663230061531067\n",
            "Loss: 0.30511125922203064\n",
            "Loss: 0.2935902774333954\n",
            "Loss: 0.28206929564476013\n",
            "Loss: 0.2705483138561249\n",
            "Epoch: 30 | Test loss: 0.18084672093391418\n",
            "OrderedDict([('linear_layer.weight', tensor([[0.6436]])), ('linear_layer.bias', tensor([0.5200]))])\n",
            "Loss: 0.25902730226516724\n",
            "Loss: 0.24750633537769318\n",
            "Loss: 0.23598536849021912\n",
            "Loss: 0.22446437180042267\n",
            "Loss: 0.21294339001178741\n",
            "Loss: 0.20142240822315216\n",
            "Loss: 0.1899014115333557\n",
            "Loss: 0.17838041484355927\n",
            "Loss: 0.16685941815376282\n",
            "Loss: 0.15533843636512756\n",
            "Epoch: 40 | Test loss: 0.04613689333200455\n",
            "OrderedDict([('linear_layer.weight', tensor([[0.6046]])), ('linear_layer.bias', tensor([0.4200]))])\n",
            "Loss: 0.1438174545764923\n",
            "Loss: 0.13229647278785706\n",
            "Loss: 0.12077547609806061\n",
            "Loss: 0.10925449430942535\n",
            "Loss: 0.0977335125207901\n",
            "Loss: 0.08621251583099365\n",
            "Loss: 0.07562904059886932\n",
            "Loss: 0.06821943819522858\n",
            "Loss: 0.0627526193857193\n",
            "Loss: 0.05875825136899948\n",
            "Epoch: 50 | Test loss: 0.06886560469865799\n",
            "OrderedDict([('linear_layer.weight', tensor([[0.5743]])), ('linear_layer.bias', tensor([0.3320]))])\n",
            "Loss: 0.05584762617945671\n",
            "Loss: 0.0535353422164917\n",
            "Loss: 0.05171908065676689\n",
            "Loss: 0.05029936879873276\n",
            "Loss: 0.0491795651614666\n",
            "Loss: 0.04826567694544792\n",
            "Loss: 0.04755968600511551\n",
            "Loss: 0.04686369746923447\n",
            "Loss: 0.04633374139666557\n",
            "Loss: 0.04580377787351608\n",
            "Epoch: 60 | Test loss: 0.0947304219007492\n",
            "OrderedDict([('linear_layer.weight', tensor([[0.5801]])), ('linear_layer.bias', tensor([0.3010]))])\n",
            "Loss: 0.04528181999921799\n",
            "Loss: 0.04486912488937378\n",
            "Loss: 0.04445642977952957\n",
            "Loss: 0.04404374212026596\n",
            "Loss: 0.043631043285131454\n",
            "Loss: 0.043230727314949036\n",
            "Loss: 0.042877912521362305\n",
            "Loss: 0.04252510145306587\n",
            "Loss: 0.04217229038476944\n",
            "Loss: 0.04181947931647301\n",
            "Epoch: 70 | Test loss: 0.09405827522277832\n",
            "OrderedDict([('linear_layer.weight', tensor([[0.5949]])), ('linear_layer.bias', tensor([0.2885]))])\n",
            "Loss: 0.041466668248176575\n",
            "Loss: 0.04111386090517044\n",
            "Loss: 0.04076104611158371\n",
            "Loss: 0.04040823504328728\n",
            "Loss: 0.04005543142557144\n",
            "Loss: 0.03970261290669441\n",
            "Loss: 0.03934979438781738\n",
            "Loss: 0.038996994495391846\n",
            "Loss: 0.03865939378738403\n",
            "Loss: 0.03831038624048233\n",
            "Epoch: 80 | Test loss: 0.08853326737880707\n",
            "OrderedDict([('linear_layer.weight', tensor([[0.6112]])), ('linear_layer.bias', tensor([0.2795]))])\n",
            "Loss: 0.03797177970409393\n",
            "Loss: 0.037625186145305634\n",
            "Loss: 0.03728277608752251\n",
            "Loss: 0.03693999722599983\n",
            "Loss: 0.03659375384449959\n",
            "Loss: 0.03625478595495224\n",
            "Loss: 0.035905785858631134\n",
            "Loss: 0.03556855395436287\n",
            "Loss: 0.03522057831287384\n",
            "Loss: 0.034879542887210846\n",
            "Epoch: 90 | Test loss: 0.08094760030508041\n",
            "OrderedDict([('linear_layer.weight', tensor([[0.6281]])), ('linear_layer.bias', tensor([0.2720]))])\n",
            "Loss: 0.03453538566827774\n",
            "Loss: 0.034190528094768524\n",
            "Loss: 0.03385017067193985\n",
            "Loss: 0.033501528203487396\n",
            "Loss: 0.03316498175263405\n",
            "Loss: 0.03281598165631294\n",
            "Loss: 0.032476313412189484\n",
            "Loss: 0.03213077783584595\n",
            "Loss: 0.03178730607032776\n",
            "Loss: 0.03144557401537895\n",
            "Epoch: 100 | Test loss: 0.07267506420612335\n",
            "OrderedDict([('linear_layer.weight', tensor([[0.6453]])), ('linear_layer.bias', tensor([0.2650]))])\n",
            "Loss: 0.03109828755259514\n",
            "Loss: 0.030760383233428\n",
            "Loss: 0.03041137382388115\n",
            "Loss: 0.03007308766245842\n",
            "Loss: 0.029726171866059303\n",
            "Loss: 0.02938407100737095\n",
            "Loss: 0.029040973633527756\n",
            "Loss: 0.028695065528154373\n",
            "Loss: 0.028355766087770462\n",
            "Loss: 0.028006773442029953\n",
            "Epoch: 110 | Test loss: 0.0644025206565857\n",
            "OrderedDict([('linear_layer.weight', tensor([[0.6625]])), ('linear_layer.bias', tensor([0.2580]))])\n",
            "Loss: 0.02766985259950161\n",
            "Loss: 0.027321573346853256\n",
            "Loss: 0.026980841532349586\n",
            "Loss: 0.026636367663741112\n",
            "Loss: 0.02629183605313301\n",
            "Loss: 0.025951167568564415\n",
            "Loss: 0.02560282312333584\n",
            "Loss: 0.025265967473387718\n",
            "Loss: 0.024916965514421463\n",
            "Loss: 0.024577608332037926\n",
            "Epoch: 120 | Test loss: 0.056816864758729935\n",
            "OrderedDict([('linear_layer.weight', tensor([[0.6794]])), ('linear_layer.bias', tensor([0.2505]))])\n",
            "Loss: 0.02423175983130932\n",
            "Loss: 0.023888597264885902\n",
            "Loss: 0.02354656346142292\n",
            "Loss: 0.02319958433508873\n",
            "Loss: 0.022861357778310776\n",
            "Loss: 0.02251235768198967\n",
            "Loss: 0.022174378857016563\n",
            "Loss: 0.021827157586812973\n",
            "Loss: 0.02148536406457424\n",
            "Loss: 0.021141955628991127\n",
            "Epoch: 130 | Test loss: 0.04854437708854675\n",
            "OrderedDict([('linear_layer.weight', tensor([[0.6966]])), ('linear_layer.bias', tensor([0.2435]))])\n",
            "Loss: 0.02079634927213192\n",
            "Loss: 0.020456749945878983\n",
            "Loss: 0.020107755437493324\n",
            "Loss: 0.019771140068769455\n",
            "Loss: 0.01942254975438118\n",
            "Loss: 0.01908213272690773\n",
            "Loss: 0.018737345933914185\n",
            "Loss: 0.018393123522400856\n",
            "Loss: 0.018052145838737488\n",
            "Loss: 0.017704108729958534\n",
            "Epoch: 140 | Test loss: 0.04095881059765816\n",
            "OrderedDict([('linear_layer.weight', tensor([[0.7135]])), ('linear_layer.bias', tensor([0.2360]))])\n",
            "Loss: 0.017366942018270493\n",
            "Loss: 0.017017940059304237\n",
            "Loss: 0.01667890138924122\n",
            "Loss: 0.01633273996412754\n",
            "Loss: 0.015989884734153748\n",
            "Loss: 0.015647541731595993\n",
            "Loss: 0.015300869941711426\n",
            "Loss: 0.014962333254516125\n",
            "Loss: 0.014613335952162743\n",
            "Loss: 0.014275660738348961\n",
            "Epoch: 150 | Test loss: 0.03268631175160408\n",
            "OrderedDict([('linear_layer.weight', tensor([[0.7307]])), ('linear_layer.bias', tensor([0.2290]))])\n",
            "Loss: 0.013928135856986046\n",
            "Loss: 0.013586652465164661\n",
            "Loss: 0.013242930173873901\n",
            "Loss: 0.012897638604044914\n",
            "Loss: 0.01255772728472948\n",
            "Loss: 0.012208727188408375\n",
            "Loss: 0.011872420087456703\n",
            "Loss: 0.011523531749844551\n",
            "Loss: 0.011183412745594978\n",
            "Loss: 0.010838326066732407\n",
            "Epoch: 160 | Test loss: 0.02441384270787239\n",
            "OrderedDict([('linear_layer.weight', tensor([[0.7478]])), ('linear_layer.bias', tensor([0.2220]))])\n",
            "Loss: 0.010494411922991276\n",
            "Loss: 0.010153125040233135\n",
            "Loss: 0.009805393405258656\n",
            "Loss: 0.009467917494475842\n",
            "Loss: 0.009118914604187012\n",
            "Loss: 0.008780179545283318\n",
            "Loss: 0.008433719165623188\n",
            "Loss: 0.008091164752840996\n",
            "Loss: 0.007748524192720652\n",
            "Loss: 0.007402160204946995\n",
            "Epoch: 170 | Test loss: 0.016828250139951706\n",
            "OrderedDict([('linear_layer.weight', tensor([[0.7648]])), ('linear_layer.bias', tensor([0.2145]))])\n",
            "Loss: 0.007063314318656921\n",
            "Loss: 0.006714314222335815\n",
            "Loss: 0.006376944482326508\n",
            "Loss: 0.006029113661497831\n",
            "Loss: 0.005687926430255175\n",
            "Loss: 0.005343910306692123\n",
            "Loss: 0.004998919554054737\n",
            "Loss: 0.004658709745854139\n",
            "Loss: 0.004309913143515587\n",
            "Loss: 0.0039735049940645695\n",
            "Epoch: 180 | Test loss: 0.008555757813155651\n",
            "OrderedDict([('linear_layer.weight', tensor([[0.7819]])), ('linear_layer.bias', tensor([0.2075]))])\n",
            "Loss: 0.0036245048977434635\n",
            "Loss: 0.0032847016118466854\n",
            "Loss: 0.0029392968863248825\n",
            "Loss: 0.002595687285065651\n",
            "Loss: 0.0022541016805917025\n",
            "Loss: 0.0019066750537604094\n",
            "Loss: 0.0015760567039251328\n",
            "Loss: 0.001284930156543851\n",
            "Loss: 0.0020312529522925615\n",
            "Loss: 0.008990185335278511\n",
            "Epoch: 190 | Test loss: 0.005145937204360962\n",
            "OrderedDict([('linear_layer.weight', tensor([[0.7948]])), ('linear_layer.bias', tensor([0.1995]))])\n",
            "Loss: 0.0025308087933808565\n",
            "Loss: 0.008990185335278511\n",
            "Loss: 0.0025308087933808565\n",
            "Loss: 0.008990185335278511\n",
            "Loss: 0.0025308087933808565\n",
            "Loss: 0.008990185335278511\n",
            "Loss: 0.0025308087933808565\n",
            "Loss: 0.008990185335278511\n",
            "Loss: 0.0025308087933808565\n"
          ]
        }
      ]
    },
    {
      "cell_type": "code",
      "source": [
        "with torch.inference_mode():\n",
        "  y_preds_new = model_0(X_test)"
      ],
      "metadata": {
        "id": "P9hWD2trSef1"
      },
      "execution_count": null,
      "outputs": []
    },
    {
      "cell_type": "code",
      "source": [
        "model_0.state_dict()"
      ],
      "metadata": {
        "colab": {
          "base_uri": "https://localhost:8080/"
        },
        "id": "BtH_Dp-TTK7j",
        "outputId": "e4913d7c-d158-47dd-8a1b-1f9b20524323"
      },
      "execution_count": null,
      "outputs": [
        {
          "output_type": "execute_result",
          "data": {
            "text/plain": [
              "OrderedDict([('linear_layer.weight', tensor([[0.7987]])),\n",
              "             ('linear_layer.bias', tensor([0.2095]))])"
            ]
          },
          "metadata": {},
          "execution_count": 20
        }
      ]
    },
    {
      "cell_type": "code",
      "source": [
        "plot_predictions(predictions = y_preds)"
      ],
      "metadata": {
        "colab": {
          "base_uri": "https://localhost:8080/",
          "height": 471
        },
        "id": "cEUnnhpsS4mt",
        "outputId": "ac5537a8-7eb3-4622-8504-7e8edba7d74e"
      },
      "execution_count": null,
      "outputs": [
        {
          "output_type": "display_data",
          "data": {
            "text/plain": [
              "<Figure size 1000x700 with 1 Axes>"
            ],
            "image/png": "[encoded data removed]"
          },
          "metadata": {}
        }
      ]
    },
    {
      "cell_type": "markdown",
      "source": [
        "## Save the model."
      ],
      "metadata": {
        "id": "CcR-yV05Ui4A"
      }
    },
    {
      "cell_type": "code",
      "source": [
        "# Saving model\n",
        "from pathlib import Path\n",
        "\n",
        "#1.Create model directory.\n",
        "MODEL_PATH = Path(\"models\")\n",
        "MODEL_PATH.mkdir(parents=True, exist_ok=True)\n",
        "\n",
        "#2. Create model save path.\n",
        "MODEL_NAME = \"01_pytorch_workflow_model_1.pth\"\n",
        "MODEL_SAVE_PATH = MODEL_PATH / MODEL_NAME\n",
        "MODEL_SAVE_PATH\n",
        "\n",
        "#3. Save the model state dict.\n",
        "print(f\"Saving model to: {MODEL_SAVE_PATH}\")\n",
        "torch.save(obj = model_0.state_dict(), f=MODEL_SAVE_PATH)"
      ],
      "metadata": {
        "colab": {
          "base_uri": "https://localhost:8080/"
        },
        "id": "kPUV316GS59A",
        "outputId": "09935579-e329-4818-dab2-bd954b07bb32"
      },
      "execution_count": null,
      "outputs": [
        {
          "output_type": "stream",
          "name": "stdout",
          "text": [
            "Saving model to: models/01_pytorch_workflow_model_1.pth\n"
          ]
        }
      ]
    },
    {
      "cell_type": "markdown",
      "source": [
        "## Load the PyTorch Model."
      ],
      "metadata": {
        "id": "IdYfzZEzhusn"
      }
    },
    {
      "cell_type": "code",
      "source": [
        "# Create a new instance of the model.\n",
        "loaded_model_1 = LinearRegressionModelV2()\n",
        "\n",
        "# Load the saved model 1 state dict\n",
        "loaded_model_1.load_state_dict(torch.load(f=MODEL_SAVE_PATH))\n",
        "\n",
        "# Put the loaded model to device.\n",
        "loaded_model_1.to(device)"
      ],
      "metadata": {
        "id": "4-KqHOmJUmI8",
        "colab": {
          "base_uri": "https://localhost:8080/"
        },
        "outputId": "6d5ff05b-c3c5-479c-c68a-971caabbd925"
      },
      "execution_count": null,
      "outputs": [
        {
          "output_type": "execute_result",
          "data": {
            "text/plain": [
              "LinearRegressionModelV2(\n",
              "  (linear_layer): Linear(in_features=1, out_features=1, bias=True)\n",
              ")"
            ]
          },
          "metadata": {},
          "execution_count": 23
        }
      ]
    },
    {
      "cell_type": "code",
      "source": [
        "# Check parameters.\n",
        "next(loaded_model_1.parameters()).device"
      ],
      "metadata": {
        "colab": {
          "base_uri": "https://localhost:8080/"
        },
        "id": "XDDrGIoclLhC",
        "outputId": "ea2f713d-79bb-4b48-f44d-ed1b2e20f135"
      },
      "execution_count": null,
      "outputs": [
        {
          "output_type": "execute_result",
          "data": {
            "text/plain": [
              "device(type='cuda', index=0)"
            ]
          },
          "metadata": {},
          "execution_count": 24
        }
      ]
    },
    {
      "cell_type": "code",
      "source": [
        "loaded_model_1.state_dict()"
      ],
      "metadata": {
        "colab": {
          "base_uri": "https://localhost:8080/"
        },
        "id": "bEoCDkZhlRZt",
        "outputId": "4b762ff0-58ec-43f2-f8c0-07759aa36acc"
      },
      "execution_count": null,
      "outputs": [
        {
          "output_type": "execute_result",
          "data": {
            "text/plain": [
              "OrderedDict([('linear_layer.weight', tensor([[0.7987]], device='cuda:0')),\n",
              "             ('linear_layer.bias', tensor([0.2095], device='cuda:0'))])"
            ]
          },
          "metadata": {},
          "execution_count": 25
        }
      ]
    },
    {
      "cell_type": "markdown",
      "source": [
        "## Evaluate loaded model."
      ],
      "metadata": {
        "id": "jOFTETHwlUe9"
      }
    },
    {
      "cell_type": "code",
      "source": [
        "loaded_model_1.eval()\n",
        "with torch.inference_mode():\n",
        "  loaded_model_1_preds = loaded_model_1(X_test)\n",
        "\n",
        "y_preds == loaded_model_1_preds"
      ],
      "metadata": {
        "colab": {
          "base_uri": "https://localhost:8080/",
          "height": 408
        },
        "id": "sYaZNOM9lTUn",
        "outputId": "7265821e-bef4-4fa0-b618-81d51e2d48d9"
      },
      "execution_count": null,
      "outputs": [
        {
          "output_type": "error",
          "ename": "RuntimeError",
          "evalue": "Expected all tensors to be on the same device, but found at least two devices, cuda:0 and cpu! (when checking argument for argument mat1 in method wrapper_CUDA_addmm)",
          "traceback": [
            "\u001b[0;31m---------------------------------------------------------------------------\u001b[0m",
            "\u001b[0;31mRuntimeError\u001b[0m                              Traceback (most recent call last)",
            "\u001b[0;32m<ipython-input-27-8b03d0d6725a>\u001b[0m in \u001b[0;36m<cell line: 2>\u001b[0;34m()\u001b[0m\n\u001b[1;32m      1\u001b[0m \u001b[0mloaded_model_1\u001b[0m\u001b[0;34m.\u001b[0m\u001b[0meval\u001b[0m\u001b[0;34m(\u001b[0m\u001b[0;34m)\u001b[0m\u001b[0;34m\u001b[0m\u001b[0;34m\u001b[0m\u001b[0m\n\u001b[1;32m      2\u001b[0m \u001b[0;32mwith\u001b[0m \u001b[0mtorch\u001b[0m\u001b[0;34m.\u001b[0m\u001b[0minference_mode\u001b[0m\u001b[0;34m(\u001b[0m\u001b[0;34m)\u001b[0m\u001b[0;34m:\u001b[0m\u001b[0;34m\u001b[0m\u001b[0;34m\u001b[0m\u001b[0m\n\u001b[0;32m----> 3\u001b[0;31m   \u001b[0mloaded_model_1_preds\u001b[0m \u001b[0;34m=\u001b[0m \u001b[0mloaded_model_1\u001b[0m\u001b[0;34m(\u001b[0m\u001b[0mX_test\u001b[0m\u001b[0;34m)\u001b[0m\u001b[0;34m\u001b[0m\u001b[0;34m\u001b[0m\u001b[0m\n\u001b[0m\u001b[1;32m      4\u001b[0m \u001b[0;34m\u001b[0m\u001b[0m\n\u001b[1;32m      5\u001b[0m \u001b[0my_preds\u001b[0m \u001b[0;34m==\u001b[0m \u001b[0mloaded_model_1_preds\u001b[0m\u001b[0;34m\u001b[0m\u001b[0;34m\u001b[0m\u001b[0m\n",
            "\u001b[0;32m/usr/local/lib/python3.10/dist-packages/torch/nn/modules/module.py\u001b[0m in \u001b[0;36m_wrapped_call_impl\u001b[0;34m(self, *args, **kwargs)\u001b[0m\n\u001b[1;32m   1530\u001b[0m             \u001b[0;32mreturn\u001b[0m \u001b[0mself\u001b[0m\u001b[0;34m.\u001b[0m\u001b[0m_compiled_call_impl\u001b[0m\u001b[0;34m(\u001b[0m\u001b[0;34m*\u001b[0m\u001b[0margs\u001b[0m\u001b[0;34m,\u001b[0m \u001b[0;34m**\u001b[0m\u001b[0mkwargs\u001b[0m\u001b[0;34m)\u001b[0m  \u001b[0;31m# type: ignore[misc]\u001b[0m\u001b[0;34m\u001b[0m\u001b[0;34m\u001b[0m\u001b[0m\n\u001b[1;32m   1531\u001b[0m         \u001b[0;32melse\u001b[0m\u001b[0;34m:\u001b[0m\u001b[0;34m\u001b[0m\u001b[0;34m\u001b[0m\u001b[0m\n\u001b[0;32m-> 1532\u001b[0;31m             \u001b[0;32mreturn\u001b[0m \u001b[0mself\u001b[0m\u001b[0;34m.\u001b[0m\u001b[0m_call_impl\u001b[0m\u001b[0;34m(\u001b[0m\u001b[0;34m*\u001b[0m\u001b[0margs\u001b[0m\u001b[0;34m,\u001b[0m \u001b[0;34m**\u001b[0m\u001b[0mkwargs\u001b[0m\u001b[0;34m)\u001b[0m\u001b[0;34m\u001b[0m\u001b[0;34m\u001b[0m\u001b[0m\n\u001b[0m\u001b[1;32m   1533\u001b[0m \u001b[0;34m\u001b[0m\u001b[0m\n\u001b[1;32m   1534\u001b[0m     \u001b[0;32mdef\u001b[0m \u001b[0m_call_impl\u001b[0m\u001b[0;34m(\u001b[0m\u001b[0mself\u001b[0m\u001b[0;34m,\u001b[0m \u001b[0;34m*\u001b[0m\u001b[0margs\u001b[0m\u001b[0;34m,\u001b[0m \u001b[0;34m**\u001b[0m\u001b[0mkwargs\u001b[0m\u001b[0;34m)\u001b[0m\u001b[0;34m:\u001b[0m\u001b[0;34m\u001b[0m\u001b[0;34m\u001b[0m\u001b[0m\n",
            "\u001b[0;32m/usr/local/lib/python3.10/dist-packages/torch/nn/modules/module.py\u001b[0m in \u001b[0;36m_call_impl\u001b[0;34m(self, *args, **kwargs)\u001b[0m\n\u001b[1;32m   1539\u001b[0m                 \u001b[0;32mor\u001b[0m \u001b[0m_global_backward_pre_hooks\u001b[0m \u001b[0;32mor\u001b[0m \u001b[0m_global_backward_hooks\u001b[0m\u001b[0;34m\u001b[0m\u001b[0;34m\u001b[0m\u001b[0m\n\u001b[1;32m   1540\u001b[0m                 or _global_forward_hooks or _global_forward_pre_hooks):\n\u001b[0;32m-> 1541\u001b[0;31m             \u001b[0;32mreturn\u001b[0m \u001b[0mforward_call\u001b[0m\u001b[0;34m(\u001b[0m\u001b[0;34m*\u001b[0m\u001b[0margs\u001b[0m\u001b[0;34m,\u001b[0m \u001b[0;34m**\u001b[0m\u001b[0mkwargs\u001b[0m\u001b[0;34m)\u001b[0m\u001b[0;34m\u001b[0m\u001b[0;34m\u001b[0m\u001b[0m\n\u001b[0m\u001b[1;32m   1542\u001b[0m \u001b[0;34m\u001b[0m\u001b[0m\n\u001b[1;32m   1543\u001b[0m         \u001b[0;32mtry\u001b[0m\u001b[0;34m:\u001b[0m\u001b[0;34m\u001b[0m\u001b[0;34m\u001b[0m\u001b[0m\n",
            "\u001b[0;32m<ipython-input-8-3f129722aee2>\u001b[0m in \u001b[0;36mforward\u001b[0;34m(self, x)\u001b[0m\n\u001b[1;32m     13\u001b[0m \u001b[0;34m\u001b[0m\u001b[0m\n\u001b[1;32m     14\u001b[0m   \u001b[0;32mdef\u001b[0m \u001b[0mforward\u001b[0m\u001b[0;34m(\u001b[0m\u001b[0mself\u001b[0m\u001b[0;34m,\u001b[0m \u001b[0mx\u001b[0m\u001b[0;34m:\u001b[0m\u001b[0mtorch\u001b[0m\u001b[0;34m.\u001b[0m\u001b[0mTensor\u001b[0m\u001b[0;34m)\u001b[0m \u001b[0;34m->\u001b[0m \u001b[0mtorch\u001b[0m\u001b[0;34m.\u001b[0m\u001b[0mTensor\u001b[0m\u001b[0;34m:\u001b[0m\u001b[0;34m\u001b[0m\u001b[0;34m\u001b[0m\u001b[0m\n\u001b[0;32m---> 15\u001b[0;31m     \u001b[0;32mreturn\u001b[0m \u001b[0mself\u001b[0m\u001b[0;34m.\u001b[0m\u001b[0mlinear_layer\u001b[0m\u001b[0;34m(\u001b[0m\u001b[0mx\u001b[0m\u001b[0;34m)\u001b[0m\u001b[0;34m\u001b[0m\u001b[0;34m\u001b[0m\u001b[0m\n\u001b[0m",
            "\u001b[0;32m/usr/local/lib/python3.10/dist-packages/torch/nn/modules/module.py\u001b[0m in \u001b[0;36m_wrapped_call_impl\u001b[0;34m(self, *args, **kwargs)\u001b[0m\n\u001b[1;32m   1530\u001b[0m             \u001b[0;32mreturn\u001b[0m \u001b[0mself\u001b[0m\u001b[0;34m.\u001b[0m\u001b[0m_compiled_call_impl\u001b[0m\u001b[0;34m(\u001b[0m\u001b[0;34m*\u001b[0m\u001b[0margs\u001b[0m\u001b[0;34m,\u001b[0m \u001b[0;34m**\u001b[0m\u001b[0mkwargs\u001b[0m\u001b[0;34m)\u001b[0m  \u001b[0;31m# type: ignore[misc]\u001b[0m\u001b[0;34m\u001b[0m\u001b[0;34m\u001b[0m\u001b[0m\n\u001b[1;32m   1531\u001b[0m         \u001b[0;32melse\u001b[0m\u001b[0;34m:\u001b[0m\u001b[0;34m\u001b[0m\u001b[0;34m\u001b[0m\u001b[0m\n\u001b[0;32m-> 1532\u001b[0;31m             \u001b[0;32mreturn\u001b[0m \u001b[0mself\u001b[0m\u001b[0;34m.\u001b[0m\u001b[0m_call_impl\u001b[0m\u001b[0;34m(\u001b[0m\u001b[0;34m*\u001b[0m\u001b[0margs\u001b[0m\u001b[0;34m,\u001b[0m \u001b[0;34m**\u001b[0m\u001b[0mkwargs\u001b[0m\u001b[0;34m)\u001b[0m\u001b[0;34m\u001b[0m\u001b[0;34m\u001b[0m\u001b[0m\n\u001b[0m\u001b[1;32m   1533\u001b[0m \u001b[0;34m\u001b[0m\u001b[0m\n\u001b[1;32m   1534\u001b[0m     \u001b[0;32mdef\u001b[0m \u001b[0m_call_impl\u001b[0m\u001b[0;34m(\u001b[0m\u001b[0mself\u001b[0m\u001b[0;34m,\u001b[0m \u001b[0;34m*\u001b[0m\u001b[0margs\u001b[0m\u001b[0;34m,\u001b[0m \u001b[0;34m**\u001b[0m\u001b[0mkwargs\u001b[0m\u001b[0;34m)\u001b[0m\u001b[0;34m:\u001b[0m\u001b[0;34m\u001b[0m\u001b[0;34m\u001b[0m\u001b[0m\n",
            "\u001b[0;32m/usr/local/lib/python3.10/dist-packages/torch/nn/modules/module.py\u001b[0m in \u001b[0;36m_call_impl\u001b[0;34m(self, *args, **kwargs)\u001b[0m\n\u001b[1;32m   1539\u001b[0m                 \u001b[0;32mor\u001b[0m \u001b[0m_global_backward_pre_hooks\u001b[0m \u001b[0;32mor\u001b[0m \u001b[0m_global_backward_hooks\u001b[0m\u001b[0;34m\u001b[0m\u001b[0;34m\u001b[0m\u001b[0m\n\u001b[1;32m   1540\u001b[0m                 or _global_forward_hooks or _global_forward_pre_hooks):\n\u001b[0;32m-> 1541\u001b[0;31m             \u001b[0;32mreturn\u001b[0m \u001b[0mforward_call\u001b[0m\u001b[0;34m(\u001b[0m\u001b[0;34m*\u001b[0m\u001b[0margs\u001b[0m\u001b[0;34m,\u001b[0m \u001b[0;34m**\u001b[0m\u001b[0mkwargs\u001b[0m\u001b[0;34m)\u001b[0m\u001b[0;34m\u001b[0m\u001b[0;34m\u001b[0m\u001b[0m\n\u001b[0m\u001b[1;32m   1542\u001b[0m \u001b[0;34m\u001b[0m\u001b[0m\n\u001b[1;32m   1543\u001b[0m         \u001b[0;32mtry\u001b[0m\u001b[0;34m:\u001b[0m\u001b[0;34m\u001b[0m\u001b[0;34m\u001b[0m\u001b[0m\n",
            "\u001b[0;32m/usr/local/lib/python3.10/dist-packages/torch/nn/modules/linear.py\u001b[0m in \u001b[0;36mforward\u001b[0;34m(self, input)\u001b[0m\n\u001b[1;32m    114\u001b[0m \u001b[0;34m\u001b[0m\u001b[0m\n\u001b[1;32m    115\u001b[0m     \u001b[0;32mdef\u001b[0m \u001b[0mforward\u001b[0m\u001b[0;34m(\u001b[0m\u001b[0mself\u001b[0m\u001b[0;34m,\u001b[0m \u001b[0minput\u001b[0m\u001b[0;34m:\u001b[0m \u001b[0mTensor\u001b[0m\u001b[0;34m)\u001b[0m \u001b[0;34m->\u001b[0m \u001b[0mTensor\u001b[0m\u001b[0;34m:\u001b[0m\u001b[0;34m\u001b[0m\u001b[0;34m\u001b[0m\u001b[0m\n\u001b[0;32m--> 116\u001b[0;31m         \u001b[0;32mreturn\u001b[0m \u001b[0mF\u001b[0m\u001b[0;34m.\u001b[0m\u001b[0mlinear\u001b[0m\u001b[0;34m(\u001b[0m\u001b[0minput\u001b[0m\u001b[0;34m,\u001b[0m \u001b[0mself\u001b[0m\u001b[0;34m.\u001b[0m\u001b[0mweight\u001b[0m\u001b[0;34m,\u001b[0m \u001b[0mself\u001b[0m\u001b[0;34m.\u001b[0m\u001b[0mbias\u001b[0m\u001b[0;34m)\u001b[0m\u001b[0;34m\u001b[0m\u001b[0;34m\u001b[0m\u001b[0m\n\u001b[0m\u001b[1;32m    117\u001b[0m \u001b[0;34m\u001b[0m\u001b[0m\n\u001b[1;32m    118\u001b[0m     \u001b[0;32mdef\u001b[0m \u001b[0mextra_repr\u001b[0m\u001b[0;34m(\u001b[0m\u001b[0mself\u001b[0m\u001b[0;34m)\u001b[0m \u001b[0;34m->\u001b[0m \u001b[0mstr\u001b[0m\u001b[0;34m:\u001b[0m\u001b[0;34m\u001b[0m\u001b[0;34m\u001b[0m\u001b[0m\n",
            "\u001b[0;31mRuntimeError\u001b[0m: Expected all tensors to be on the same device, but found at least two devices, cuda:0 and cpu! (when checking argument for argument mat1 in method wrapper_CUDA_addmm)"
          ]
        }
      ]
    },
    {
      "cell_type": "code",
      "source": [],
      "metadata": {
        "id": "Lw3LVeIXlf2C"
      },
      "execution_count": null,
      "outputs": []
    }
  ]
}